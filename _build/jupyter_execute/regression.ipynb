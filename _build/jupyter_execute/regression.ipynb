{
 "cells": [
  {
   "cell_type": "markdown",
   "metadata": {},
   "source": [
    "# Regression"
   ]
  },
  {
   "cell_type": "markdown",
   "metadata": {},
   "source": [
    "In this project, your goal is to build regression models of housing prices. The models should learn from data and be able to predict the median house price in a district (which is a population of 600 to 3000 people), given some predictor variables. \n"
   ]
  },
  {
   "cell_type": "markdown",
   "metadata": {},
   "source": [
    "# Data Import"
   ]
  },
  {
   "cell_type": "code",
   "execution_count": 1,
   "metadata": {},
   "outputs": [
    {
     "data": {
      "text/html": [
       "<div>\n",
       "<style scoped>\n",
       "    .dataframe tbody tr th:only-of-type {\n",
       "        vertical-align: middle;\n",
       "    }\n",
       "\n",
       "    .dataframe tbody tr th {\n",
       "        vertical-align: top;\n",
       "    }\n",
       "\n",
       "    .dataframe thead th {\n",
       "        text-align: right;\n",
       "    }\n",
       "</style>\n",
       "<table border=\"1\" class=\"dataframe\">\n",
       "  <thead>\n",
       "    <tr style=\"text-align: right;\">\n",
       "      <th></th>\n",
       "      <th>housing_median_age</th>\n",
       "      <th>median_income</th>\n",
       "      <th>median_house_value</th>\n",
       "      <th>priceCat</th>\n",
       "      <th>person_per_household</th>\n",
       "      <th>share_bedrooms</th>\n",
       "      <th>rooms_per_household</th>\n",
       "      <th>sm_PpH</th>\n",
       "      <th>sm_RpH</th>\n",
       "      <th>proximity</th>\n",
       "    </tr>\n",
       "  </thead>\n",
       "  <tbody>\n",
       "    <tr>\n",
       "      <th>0</th>\n",
       "      <td>41.0</td>\n",
       "      <td>8.3252</td>\n",
       "      <td>452.6</td>\n",
       "      <td>above</td>\n",
       "      <td>2.555556</td>\n",
       "      <td>0.146591</td>\n",
       "      <td>6.984127</td>\n",
       "      <td>0.938270</td>\n",
       "      <td>1.943640</td>\n",
       "      <td>COAST</td>\n",
       "    </tr>\n",
       "    <tr>\n",
       "      <th>1</th>\n",
       "      <td>21.0</td>\n",
       "      <td>8.3014</td>\n",
       "      <td>358.5</td>\n",
       "      <td>above</td>\n",
       "      <td>2.109842</td>\n",
       "      <td>0.155797</td>\n",
       "      <td>6.238137</td>\n",
       "      <td>0.746613</td>\n",
       "      <td>1.830682</td>\n",
       "      <td>COAST</td>\n",
       "    </tr>\n",
       "    <tr>\n",
       "      <th>2</th>\n",
       "      <td>52.0</td>\n",
       "      <td>7.2574</td>\n",
       "      <td>352.1</td>\n",
       "      <td>above</td>\n",
       "      <td>2.802260</td>\n",
       "      <td>0.129516</td>\n",
       "      <td>8.288136</td>\n",
       "      <td>1.030426</td>\n",
       "      <td>2.114825</td>\n",
       "      <td>COAST</td>\n",
       "    </tr>\n",
       "    <tr>\n",
       "      <th>3</th>\n",
       "      <td>52.0</td>\n",
       "      <td>5.6431</td>\n",
       "      <td>341.3</td>\n",
       "      <td>above</td>\n",
       "      <td>2.547945</td>\n",
       "      <td>0.184458</td>\n",
       "      <td>5.817352</td>\n",
       "      <td>0.935287</td>\n",
       "      <td>1.760845</td>\n",
       "      <td>COAST</td>\n",
       "    </tr>\n",
       "    <tr>\n",
       "      <th>4</th>\n",
       "      <td>52.0</td>\n",
       "      <td>3.8462</td>\n",
       "      <td>342.2</td>\n",
       "      <td>above</td>\n",
       "      <td>2.181467</td>\n",
       "      <td>0.172096</td>\n",
       "      <td>6.281853</td>\n",
       "      <td>0.779998</td>\n",
       "      <td>1.837665</td>\n",
       "      <td>COAST</td>\n",
       "    </tr>\n",
       "    <tr>\n",
       "      <th>...</th>\n",
       "      <td>...</td>\n",
       "      <td>...</td>\n",
       "      <td>...</td>\n",
       "      <td>...</td>\n",
       "      <td>...</td>\n",
       "      <td>...</td>\n",
       "      <td>...</td>\n",
       "      <td>...</td>\n",
       "      <td>...</td>\n",
       "      <td>...</td>\n",
       "    </tr>\n",
       "    <tr>\n",
       "      <th>19369</th>\n",
       "      <td>25.0</td>\n",
       "      <td>1.5603</td>\n",
       "      <td>78.1</td>\n",
       "      <td>below</td>\n",
       "      <td>2.560606</td>\n",
       "      <td>0.224625</td>\n",
       "      <td>5.045455</td>\n",
       "      <td>0.940244</td>\n",
       "      <td>1.618488</td>\n",
       "      <td>INLAND</td>\n",
       "    </tr>\n",
       "    <tr>\n",
       "      <th>19370</th>\n",
       "      <td>18.0</td>\n",
       "      <td>2.5568</td>\n",
       "      <td>77.1</td>\n",
       "      <td>below</td>\n",
       "      <td>3.122807</td>\n",
       "      <td>0.215208</td>\n",
       "      <td>6.114035</td>\n",
       "      <td>1.138732</td>\n",
       "      <td>1.810587</td>\n",
       "      <td>INLAND</td>\n",
       "    </tr>\n",
       "    <tr>\n",
       "      <th>19371</th>\n",
       "      <td>17.0</td>\n",
       "      <td>1.7000</td>\n",
       "      <td>92.3</td>\n",
       "      <td>below</td>\n",
       "      <td>2.325635</td>\n",
       "      <td>0.215173</td>\n",
       "      <td>5.205543</td>\n",
       "      <td>0.843993</td>\n",
       "      <td>1.649724</td>\n",
       "      <td>INLAND</td>\n",
       "    </tr>\n",
       "    <tr>\n",
       "      <th>19372</th>\n",
       "      <td>18.0</td>\n",
       "      <td>1.8672</td>\n",
       "      <td>84.7</td>\n",
       "      <td>below</td>\n",
       "      <td>2.123209</td>\n",
       "      <td>0.219892</td>\n",
       "      <td>5.329513</td>\n",
       "      <td>0.752929</td>\n",
       "      <td>1.673260</td>\n",
       "      <td>INLAND</td>\n",
       "    </tr>\n",
       "    <tr>\n",
       "      <th>19373</th>\n",
       "      <td>16.0</td>\n",
       "      <td>2.3886</td>\n",
       "      <td>89.4</td>\n",
       "      <td>below</td>\n",
       "      <td>2.616981</td>\n",
       "      <td>0.221185</td>\n",
       "      <td>5.254717</td>\n",
       "      <td>0.962021</td>\n",
       "      <td>1.659126</td>\n",
       "      <td>INLAND</td>\n",
       "    </tr>\n",
       "  </tbody>\n",
       "</table>\n",
       "<p>19374 rows × 10 columns</p>\n",
       "</div>"
      ],
      "text/plain": [
       "       housing_median_age  median_income  median_house_value priceCat  \\\n",
       "0                    41.0         8.3252               452.6    above   \n",
       "1                    21.0         8.3014               358.5    above   \n",
       "2                    52.0         7.2574               352.1    above   \n",
       "3                    52.0         5.6431               341.3    above   \n",
       "4                    52.0         3.8462               342.2    above   \n",
       "...                   ...            ...                 ...      ...   \n",
       "19369                25.0         1.5603                78.1    below   \n",
       "19370                18.0         2.5568                77.1    below   \n",
       "19371                17.0         1.7000                92.3    below   \n",
       "19372                18.0         1.8672                84.7    below   \n",
       "19373                16.0         2.3886                89.4    below   \n",
       "\n",
       "       person_per_household  share_bedrooms  rooms_per_household    sm_PpH  \\\n",
       "0                  2.555556        0.146591             6.984127  0.938270   \n",
       "1                  2.109842        0.155797             6.238137  0.746613   \n",
       "2                  2.802260        0.129516             8.288136  1.030426   \n",
       "3                  2.547945        0.184458             5.817352  0.935287   \n",
       "4                  2.181467        0.172096             6.281853  0.779998   \n",
       "...                     ...             ...                  ...       ...   \n",
       "19369              2.560606        0.224625             5.045455  0.940244   \n",
       "19370              3.122807        0.215208             6.114035  1.138732   \n",
       "19371              2.325635        0.215173             5.205543  0.843993   \n",
       "19372              2.123209        0.219892             5.329513  0.752929   \n",
       "19373              2.616981        0.221185             5.254717  0.962021   \n",
       "\n",
       "         sm_RpH proximity  \n",
       "0      1.943640     COAST  \n",
       "1      1.830682     COAST  \n",
       "2      2.114825     COAST  \n",
       "3      1.760845     COAST  \n",
       "4      1.837665     COAST  \n",
       "...         ...       ...  \n",
       "19369  1.618488    INLAND  \n",
       "19370  1.810587    INLAND  \n",
       "19371  1.649724    INLAND  \n",
       "19372  1.673260    INLAND  \n",
       "19373  1.659126    INLAND  \n",
       "\n",
       "[19374 rows x 10 columns]"
      ]
     },
     "execution_count": 1,
     "metadata": {},
     "output_type": "execute_result"
    }
   ],
   "source": [
    "import pandas as pd\n",
    "import numpy as np\n",
    "from scipy import stats\n",
    "import statsmodels.api as sm\n",
    "\n",
    "import matplotlib.pyplot as plt\n",
    "%matplotlib inline \n",
    "import seaborn as sns  \n",
    "\n",
    "# seaborn settings\n",
    "custom_params = {\"axes.spines.right\": False, \"axes.spines.top\": False}\n",
    "sns.set_theme(style=\"ticks\", rc=custom_params)\n",
    "\n",
    "df = pd.read_csv(\"ready_data.csv\")\n",
    "df"
   ]
  },
  {
   "cell_type": "code",
   "execution_count": 2,
   "metadata": {},
   "outputs": [],
   "source": [
    "datatypes_toChange = {\"proximity\": \"category\"}\n",
    "df = df.astype(datatypes_toChange)\n",
    "df = df.drop([\"priceCat\"], axis=1)"
   ]
  },
  {
   "cell_type": "markdown",
   "metadata": {},
   "source": [
    "# Vorgehensweise\n",
    "\n",
    "In den nachfolgenden Punkten wird die Lineare Regression jeweils einmal mit **SK Learn** und **Statsmodels** durchgeführt.</br>\n",
    "Dabei sind unterschiedliche Vorgehensweisen bzgl. Einlesen der Daten zu beachten.\n",
    "\n",
    "Vorarbeit wurde bereits in Data.ipynb erbracht.\n",
    "\n",
    "Ferner wird zum Statsmodel-Anteil die Regression Diagnostic durchgeführt."
   ]
  },
  {
   "cell_type": "markdown",
   "metadata": {},
   "source": [
    "# Modellierung in Statsmodels"
   ]
  },
  {
   "cell_type": "code",
   "execution_count": 3,
   "metadata": {},
   "outputs": [],
   "source": [
    "%matplotlib inline\n",
    "\n",
    "import pandas as pd\n",
    "import seaborn as sns \n",
    "import matplotlib.pyplot as plt\n",
    "import statsmodels.formula.api as smf\n",
    "from statsmodels.tools.eval_measures import mse, rmse\n",
    "from statsmodels.stats.outliers_influence import variance_inflation_factor\n",
    "from statsmodels.tools.tools import add_constant\n",
    "from statsmodels.compat import lzip\n",
    "\n",
    "sns.set_theme(style=\"ticks\", color_codes=True)"
   ]
  },
  {
   "cell_type": "code",
   "execution_count": 4,
   "metadata": {},
   "outputs": [],
   "source": [
    "dummies = pd.get_dummies(df[[\"proximity\"]], drop_first = True)"
   ]
  },
  {
   "cell_type": "code",
   "execution_count": 5,
   "metadata": {},
   "outputs": [],
   "source": [
    "df_stats = pd.concat([df, dummies[[\"proximity_INLAND\"]]], axis=1)\n",
    "df_stats = df_stats.drop(columns=[\"proximity\", \"person_per_household\", \"rooms_per_household\"], axis=1)"
   ]
  },
  {
   "cell_type": "code",
   "execution_count": 6,
   "metadata": {},
   "outputs": [],
   "source": [
    "train_dataset = df_stats.sample(frac=0.8, random_state=0)\n",
    "test_dataset = df_stats.drop(train_dataset.index)"
   ]
  },
  {
   "cell_type": "code",
   "execution_count": 7,
   "metadata": {},
   "outputs": [
    {
     "name": "stdout",
     "output_type": "stream",
     "text": [
      "<class 'pandas.core.frame.DataFrame'>\n",
      "RangeIndex: 19374 entries, 0 to 19373\n",
      "Data columns (total 7 columns):\n",
      " #   Column              Non-Null Count  Dtype  \n",
      "---  ------              --------------  -----  \n",
      " 0   housing_median_age  19374 non-null  float64\n",
      " 1   median_income       19374 non-null  float64\n",
      " 2   median_house_value  19374 non-null  float64\n",
      " 3   share_bedrooms      19374 non-null  float64\n",
      " 4   sm_PpH              19374 non-null  float64\n",
      " 5   sm_RpH              19374 non-null  float64\n",
      " 6   proximity_INLAND    19374 non-null  uint8  \n",
      "dtypes: float64(6), uint8(1)\n",
      "memory usage: 927.2 KB\n"
     ]
    }
   ],
   "source": [
    "df_stats.info()"
   ]
  },
  {
   "cell_type": "code",
   "execution_count": 8,
   "metadata": {},
   "outputs": [
    {
     "data": {
      "text/html": [
       "<table class=\"simpletable\">\n",
       "<caption>OLS Regression Results</caption>\n",
       "<tr>\n",
       "  <th>Dep. Variable:</th>    <td>median_house_value</td> <th>  R-squared:         </th> <td>   0.634</td> \n",
       "</tr>\n",
       "<tr>\n",
       "  <th>Model:</th>                    <td>OLS</td>        <th>  Adj. R-squared:    </th> <td>   0.634</td> \n",
       "</tr>\n",
       "<tr>\n",
       "  <th>Method:</th>              <td>Least Squares</td>   <th>  F-statistic:       </th> <td>   4466.</td> \n",
       "</tr>\n",
       "<tr>\n",
       "  <th>Date:</th>              <td>Sun, 23 Jan 2022</td>  <th>  Prob (F-statistic):</th>  <td>  0.00</td>  \n",
       "</tr>\n",
       "<tr>\n",
       "  <th>Time:</th>                  <td>22:03:58</td>      <th>  Log-Likelihood:    </th> <td> -85118.</td> \n",
       "</tr>\n",
       "<tr>\n",
       "  <th>No. Observations:</th>       <td> 15499</td>       <th>  AIC:               </th> <td>1.703e+05</td>\n",
       "</tr>\n",
       "<tr>\n",
       "  <th>Df Residuals:</th>           <td> 15492</td>       <th>  BIC:               </th> <td>1.703e+05</td>\n",
       "</tr>\n",
       "<tr>\n",
       "  <th>Df Model:</th>               <td>     6</td>       <th>                     </th>     <td> </td>    \n",
       "</tr>\n",
       "<tr>\n",
       "  <th>Covariance Type:</th>       <td>nonrobust</td>     <th>                     </th>     <td> </td>    \n",
       "</tr>\n",
       "</table>\n",
       "<table class=\"simpletable\">\n",
       "<tr>\n",
       "           <td></td>             <th>coef</th>     <th>std err</th>      <th>t</th>      <th>P>|t|</th>  <th>[0.025</th>    <th>0.975]</th>  \n",
       "</tr>\n",
       "<tr>\n",
       "  <th>Intercept</th>          <td>   41.5270</td> <td>    8.436</td> <td>    4.922</td> <td> 0.000</td> <td>   24.991</td> <td>   58.063</td>\n",
       "</tr>\n",
       "<tr>\n",
       "  <th>housing_median_age</th> <td>    0.8781</td> <td>    0.041</td> <td>   21.625</td> <td> 0.000</td> <td>    0.799</td> <td>    0.958</td>\n",
       "</tr>\n",
       "<tr>\n",
       "  <th>median_income</th>      <td>   42.3322</td> <td>    0.443</td> <td>   95.560</td> <td> 0.000</td> <td>   41.464</td> <td>   43.201</td>\n",
       "</tr>\n",
       "<tr>\n",
       "  <th>sm_PpH</th>             <td>  -90.7066</td> <td>    1.956</td> <td>  -46.362</td> <td> 0.000</td> <td>  -94.541</td> <td>  -86.872</td>\n",
       "</tr>\n",
       "<tr>\n",
       "  <th>sm_RpH</th>             <td>   14.4552</td> <td>    2.969</td> <td>    4.869</td> <td> 0.000</td> <td>    8.636</td> <td>   20.275</td>\n",
       "</tr>\n",
       "<tr>\n",
       "  <th>share_bedrooms</th>     <td>  289.3892</td> <td>   14.873</td> <td>   19.458</td> <td> 0.000</td> <td>  260.237</td> <td>  318.541</td>\n",
       "</tr>\n",
       "<tr>\n",
       "  <th>proximity_INLAND</th>   <td>  -63.2952</td> <td>    1.186</td> <td>  -53.391</td> <td> 0.000</td> <td>  -65.619</td> <td>  -60.972</td>\n",
       "</tr>\n",
       "</table>\n",
       "<table class=\"simpletable\">\n",
       "<tr>\n",
       "  <th>Omnibus:</th>       <td>2279.366</td> <th>  Durbin-Watson:     </th> <td>   1.995</td>\n",
       "</tr>\n",
       "<tr>\n",
       "  <th>Prob(Omnibus):</th>  <td> 0.000</td>  <th>  Jarque-Bera (JB):  </th> <td>7936.757</td>\n",
       "</tr>\n",
       "<tr>\n",
       "  <th>Skew:</th>           <td> 0.731</td>  <th>  Prob(JB):          </th> <td>    0.00</td>\n",
       "</tr>\n",
       "<tr>\n",
       "  <th>Kurtosis:</th>       <td> 6.186</td>  <th>  Cond. No.          </th> <td>1.12e+03</td>\n",
       "</tr>\n",
       "</table><br/><br/>Notes:<br/>[1] Standard Errors assume that the covariance matrix of the errors is correctly specified.<br/>[2] The condition number is large, 1.12e+03. This might indicate that there are<br/>strong multicollinearity or other numerical problems."
      ],
      "text/plain": [
       "<class 'statsmodels.iolib.summary.Summary'>\n",
       "\"\"\"\n",
       "                            OLS Regression Results                            \n",
       "==============================================================================\n",
       "Dep. Variable:     median_house_value   R-squared:                       0.634\n",
       "Model:                            OLS   Adj. R-squared:                  0.634\n",
       "Method:                 Least Squares   F-statistic:                     4466.\n",
       "Date:                Sun, 23 Jan 2022   Prob (F-statistic):               0.00\n",
       "Time:                        22:03:58   Log-Likelihood:                -85118.\n",
       "No. Observations:               15499   AIC:                         1.703e+05\n",
       "Df Residuals:                   15492   BIC:                         1.703e+05\n",
       "Df Model:                           6                                         \n",
       "Covariance Type:            nonrobust                                         \n",
       "======================================================================================\n",
       "                         coef    std err          t      P>|t|      [0.025      0.975]\n",
       "--------------------------------------------------------------------------------------\n",
       "Intercept             41.5270      8.436      4.922      0.000      24.991      58.063\n",
       "housing_median_age     0.8781      0.041     21.625      0.000       0.799       0.958\n",
       "median_income         42.3322      0.443     95.560      0.000      41.464      43.201\n",
       "sm_PpH               -90.7066      1.956    -46.362      0.000     -94.541     -86.872\n",
       "sm_RpH                14.4552      2.969      4.869      0.000       8.636      20.275\n",
       "share_bedrooms       289.3892     14.873     19.458      0.000     260.237     318.541\n",
       "proximity_INLAND     -63.2952      1.186    -53.391      0.000     -65.619     -60.972\n",
       "==============================================================================\n",
       "Omnibus:                     2279.366   Durbin-Watson:                   1.995\n",
       "Prob(Omnibus):                  0.000   Jarque-Bera (JB):             7936.757\n",
       "Skew:                           0.731   Prob(JB):                         0.00\n",
       "Kurtosis:                       6.186   Cond. No.                     1.12e+03\n",
       "==============================================================================\n",
       "\n",
       "Notes:\n",
       "[1] Standard Errors assume that the covariance matrix of the errors is correctly specified.\n",
       "[2] The condition number is large, 1.12e+03. This might indicate that there are\n",
       "strong multicollinearity or other numerical problems.\n",
       "\"\"\""
      ]
     },
     "execution_count": 8,
     "metadata": {},
     "output_type": "execute_result"
    }
   ],
   "source": [
    "# Fit Model\n",
    "lm = smf.ols(formula='median_house_value ~ housing_median_age + median_income + sm_PpH + sm_RpH + share_bedrooms + proximity_INLAND' , data=train_dataset).fit()\n",
    "# Full summary\n",
    "lm.summary()"
   ]
  },
  {
   "cell_type": "markdown",
   "metadata": {},
   "source": [
    "## Nicht-Normalverteilte Residuen\n",
    "\n",
    "Obwohl Omnibus und Jarque-Bera die Null-Hypothese der Normalverteilten Residuen verwerfen, können wir wegen der Anzahl von 15T Beobachtungen (sehr großes n) von Normalverteilung ausgehen.\n",
    "\n",
    "## Correlation of Error Terms\n",
    "\n",
    "Durbin Watson ist 2. Demnach liegt keine Autokorrelation der Fehlerterme vor.\n",
    "\n",
    "## Mulitkolliniarität\n",
    "\n",
    "Eine hohe Condition Number ist ein Hinweis auf Mulitkolliniarität. Daher wird nachfolgen der Variance Inflation Factor betrachtet.\n",
    "\n",
    "Im besten Fall sind die Werte = 1. Werte größer 5 sind sehr problematisch. </br>\n",
    "Im vorliegenden Modell sind hohe Werte für Rooms per Household und Share_Bedroom enthalten. Daher wird das Feature Share Bedroom entfernt.\n",
    "Das Summary zum neuen Modell fällt geringfühgig in R2, jedoch wir die Condition Number kleiner. Beim neuen VIF nimmt das Feature Rooms per Household deutlich ab."
   ]
  },
  {
   "cell_type": "code",
   "execution_count": 9,
   "metadata": {},
   "outputs": [
    {
     "data": {
      "text/html": [
       "<div>\n",
       "<style scoped>\n",
       "    .dataframe tbody tr th:only-of-type {\n",
       "        vertical-align: middle;\n",
       "    }\n",
       "\n",
       "    .dataframe tbody tr th {\n",
       "        vertical-align: top;\n",
       "    }\n",
       "\n",
       "    .dataframe thead th {\n",
       "        text-align: right;\n",
       "    }\n",
       "</style>\n",
       "<table border=\"1\" class=\"dataframe\">\n",
       "  <thead>\n",
       "    <tr style=\"text-align: right;\">\n",
       "      <th></th>\n",
       "      <th>VIF Factor</th>\n",
       "      <th>Feature</th>\n",
       "    </tr>\n",
       "  </thead>\n",
       "  <tbody>\n",
       "    <tr>\n",
       "      <th>0</th>\n",
       "      <td>316.14</td>\n",
       "      <td>const</td>\n",
       "    </tr>\n",
       "    <tr>\n",
       "      <th>1</th>\n",
       "      <td>1.08</td>\n",
       "      <td>housing_median_age</td>\n",
       "    </tr>\n",
       "    <tr>\n",
       "      <th>2</th>\n",
       "      <td>1.71</td>\n",
       "      <td>median_income</td>\n",
       "    </tr>\n",
       "    <tr>\n",
       "      <th>3</th>\n",
       "      <td>1.02</td>\n",
       "      <td>sm_PpH</td>\n",
       "    </tr>\n",
       "    <tr>\n",
       "      <th>4</th>\n",
       "      <td>2.68</td>\n",
       "      <td>sm_RpH</td>\n",
       "    </tr>\n",
       "    <tr>\n",
       "      <th>5</th>\n",
       "      <td>3.11</td>\n",
       "      <td>share_bedrooms</td>\n",
       "    </tr>\n",
       "  </tbody>\n",
       "</table>\n",
       "</div>"
      ],
      "text/plain": [
       "   VIF Factor             Feature\n",
       "0      316.14               const\n",
       "1        1.08  housing_median_age\n",
       "2        1.71       median_income\n",
       "3        1.02              sm_PpH\n",
       "4        2.68              sm_RpH\n",
       "5        3.11      share_bedrooms"
      ]
     },
     "execution_count": 9,
     "metadata": {},
     "output_type": "execute_result"
    }
   ],
   "source": [
    "# choose features and add constant\n",
    "features = add_constant(df[[\"housing_median_age\", \"median_income\", \"sm_PpH\", \"sm_RpH\", \"share_bedrooms\"]])\n",
    "# create empty DataFrame\n",
    "vif = pd.DataFrame()\n",
    "# calculate vif\n",
    "vif[\"VIF Factor\"] = [variance_inflation_factor(features.values, i) for i in range(features.shape[1])]\n",
    "# add feature names\n",
    "vif[\"Feature\"] = features.columns\n",
    "\n",
    "vif.round(2)"
   ]
  },
  {
   "cell_type": "code",
   "execution_count": 10,
   "metadata": {},
   "outputs": [
    {
     "data": {
      "text/html": [
       "<div>\n",
       "<style scoped>\n",
       "    .dataframe tbody tr th:only-of-type {\n",
       "        vertical-align: middle;\n",
       "    }\n",
       "\n",
       "    .dataframe tbody tr th {\n",
       "        vertical-align: top;\n",
       "    }\n",
       "\n",
       "    .dataframe thead th {\n",
       "        text-align: right;\n",
       "    }\n",
       "</style>\n",
       "<table border=\"1\" class=\"dataframe\">\n",
       "  <thead>\n",
       "    <tr style=\"text-align: right;\">\n",
       "      <th></th>\n",
       "      <th>VIF Factor</th>\n",
       "      <th>Feature</th>\n",
       "    </tr>\n",
       "  </thead>\n",
       "  <tbody>\n",
       "    <tr>\n",
       "      <th>0</th>\n",
       "      <td>73.25</td>\n",
       "      <td>const</td>\n",
       "    </tr>\n",
       "    <tr>\n",
       "      <th>1</th>\n",
       "      <td>1.07</td>\n",
       "      <td>housing_median_age</td>\n",
       "    </tr>\n",
       "    <tr>\n",
       "      <th>2</th>\n",
       "      <td>1.42</td>\n",
       "      <td>median_income</td>\n",
       "    </tr>\n",
       "    <tr>\n",
       "      <th>3</th>\n",
       "      <td>1.00</td>\n",
       "      <td>sm_PpH</td>\n",
       "    </tr>\n",
       "    <tr>\n",
       "      <th>4</th>\n",
       "      <td>1.45</td>\n",
       "      <td>sm_RpH</td>\n",
       "    </tr>\n",
       "  </tbody>\n",
       "</table>\n",
       "</div>"
      ],
      "text/plain": [
       "   VIF Factor             Feature\n",
       "0       73.25               const\n",
       "1        1.07  housing_median_age\n",
       "2        1.42       median_income\n",
       "3        1.00              sm_PpH\n",
       "4        1.45              sm_RpH"
      ]
     },
     "execution_count": 10,
     "metadata": {},
     "output_type": "execute_result"
    }
   ],
   "source": [
    "# choose features and add constant\n",
    "features = add_constant(df[[\"housing_median_age\", \"median_income\", \"sm_PpH\", \"sm_RpH\"]])\n",
    "# create empty DataFrame\n",
    "vif = pd.DataFrame()\n",
    "# calculate vif\n",
    "vif[\"VIF Factor\"] = [variance_inflation_factor(features.values, i) for i in range(features.shape[1])]\n",
    "# add feature names\n",
    "vif[\"Feature\"] = features.columns\n",
    "\n",
    "vif.round(2)"
   ]
  },
  {
   "cell_type": "code",
   "execution_count": 11,
   "metadata": {},
   "outputs": [
    {
     "data": {
      "text/html": [
       "<table class=\"simpletable\">\n",
       "<caption>OLS Regression Results</caption>\n",
       "<tr>\n",
       "  <th>Dep. Variable:</th>    <td>median_house_value</td> <th>  R-squared:         </th> <td>   0.625</td> \n",
       "</tr>\n",
       "<tr>\n",
       "  <th>Model:</th>                    <td>OLS</td>        <th>  Adj. R-squared:    </th> <td>   0.625</td> \n",
       "</tr>\n",
       "<tr>\n",
       "  <th>Method:</th>              <td>Least Squares</td>   <th>  F-statistic:       </th> <td>   5158.</td> \n",
       "</tr>\n",
       "<tr>\n",
       "  <th>Date:</th>              <td>Sun, 23 Jan 2022</td>  <th>  Prob (F-statistic):</th>  <td>  0.00</td>  \n",
       "</tr>\n",
       "<tr>\n",
       "  <th>Time:</th>                  <td>22:03:59</td>      <th>  Log-Likelihood:    </th> <td> -85305.</td> \n",
       "</tr>\n",
       "<tr>\n",
       "  <th>No. Observations:</th>       <td> 15499</td>       <th>  AIC:               </th> <td>1.706e+05</td>\n",
       "</tr>\n",
       "<tr>\n",
       "  <th>Df Residuals:</th>           <td> 15493</td>       <th>  BIC:               </th> <td>1.707e+05</td>\n",
       "</tr>\n",
       "<tr>\n",
       "  <th>Df Model:</th>               <td>     5</td>       <th>                     </th>     <td> </td>    \n",
       "</tr>\n",
       "<tr>\n",
       "  <th>Covariance Type:</th>       <td>nonrobust</td>     <th>                     </th>     <td> </td>    \n",
       "</tr>\n",
       "</table>\n",
       "<table class=\"simpletable\">\n",
       "<tr>\n",
       "           <td></td>             <th>coef</th>     <th>std err</th>      <th>t</th>      <th>P>|t|</th>  <th>[0.025</th>    <th>0.975]</th>  \n",
       "</tr>\n",
       "<tr>\n",
       "  <th>Intercept</th>          <td>  185.2889</td> <td>    4.122</td> <td>   44.953</td> <td> 0.000</td> <td>  177.210</td> <td>  193.368</td>\n",
       "</tr>\n",
       "<tr>\n",
       "  <th>housing_median_age</th> <td>    0.7778</td> <td>    0.041</td> <td>   19.080</td> <td> 0.000</td> <td>    0.698</td> <td>    0.858</td>\n",
       "</tr>\n",
       "<tr>\n",
       "  <th>median_income</th>      <td>   38.6419</td> <td>    0.405</td> <td>   95.367</td> <td> 0.000</td> <td>   37.848</td> <td>   39.436</td>\n",
       "</tr>\n",
       "<tr>\n",
       "  <th>sm_PpH</th>             <td>  -95.7115</td> <td>    1.963</td> <td>  -48.758</td> <td> 0.000</td> <td>  -99.559</td> <td>  -91.864</td>\n",
       "</tr>\n",
       "<tr>\n",
       "  <th>sm_RpH</th>             <td>  -21.4593</td> <td>    2.354</td> <td>   -9.117</td> <td> 0.000</td> <td>  -26.073</td> <td>  -16.846</td>\n",
       "</tr>\n",
       "<tr>\n",
       "  <th>proximity_INLAND</th>   <td>  -66.7403</td> <td>    1.186</td> <td>  -56.254</td> <td> 0.000</td> <td>  -69.066</td> <td>  -64.415</td>\n",
       "</tr>\n",
       "</table>\n",
       "<table class=\"simpletable\">\n",
       "<tr>\n",
       "  <th>Omnibus:</th>       <td>2366.126</td> <th>  Durbin-Watson:     </th> <td>   1.996</td>\n",
       "</tr>\n",
       "<tr>\n",
       "  <th>Prob(Omnibus):</th>  <td> 0.000</td>  <th>  Jarque-Bera (JB):  </th> <td>7045.631</td>\n",
       "</tr>\n",
       "<tr>\n",
       "  <th>Skew:</th>           <td> 0.806</td>  <th>  Prob(JB):          </th> <td>    0.00</td>\n",
       "</tr>\n",
       "<tr>\n",
       "  <th>Kurtosis:</th>       <td> 5.883</td>  <th>  Cond. No.          </th> <td>    301.</td>\n",
       "</tr>\n",
       "</table><br/><br/>Notes:<br/>[1] Standard Errors assume that the covariance matrix of the errors is correctly specified."
      ],
      "text/plain": [
       "<class 'statsmodels.iolib.summary.Summary'>\n",
       "\"\"\"\n",
       "                            OLS Regression Results                            \n",
       "==============================================================================\n",
       "Dep. Variable:     median_house_value   R-squared:                       0.625\n",
       "Model:                            OLS   Adj. R-squared:                  0.625\n",
       "Method:                 Least Squares   F-statistic:                     5158.\n",
       "Date:                Sun, 23 Jan 2022   Prob (F-statistic):               0.00\n",
       "Time:                        22:03:59   Log-Likelihood:                -85305.\n",
       "No. Observations:               15499   AIC:                         1.706e+05\n",
       "Df Residuals:                   15493   BIC:                         1.707e+05\n",
       "Df Model:                           5                                         \n",
       "Covariance Type:            nonrobust                                         \n",
       "======================================================================================\n",
       "                         coef    std err          t      P>|t|      [0.025      0.975]\n",
       "--------------------------------------------------------------------------------------\n",
       "Intercept            185.2889      4.122     44.953      0.000     177.210     193.368\n",
       "housing_median_age     0.7778      0.041     19.080      0.000       0.698       0.858\n",
       "median_income         38.6419      0.405     95.367      0.000      37.848      39.436\n",
       "sm_PpH               -95.7115      1.963    -48.758      0.000     -99.559     -91.864\n",
       "sm_RpH               -21.4593      2.354     -9.117      0.000     -26.073     -16.846\n",
       "proximity_INLAND     -66.7403      1.186    -56.254      0.000     -69.066     -64.415\n",
       "==============================================================================\n",
       "Omnibus:                     2366.126   Durbin-Watson:                   1.996\n",
       "Prob(Omnibus):                  0.000   Jarque-Bera (JB):             7045.631\n",
       "Skew:                           0.806   Prob(JB):                         0.00\n",
       "Kurtosis:                       5.883   Cond. No.                         301.\n",
       "==============================================================================\n",
       "\n",
       "Notes:\n",
       "[1] Standard Errors assume that the covariance matrix of the errors is correctly specified.\n",
       "\"\"\""
      ]
     },
     "execution_count": 11,
     "metadata": {},
     "output_type": "execute_result"
    }
   ],
   "source": [
    "# Fit Model\n",
    "lm = smf.ols(formula='median_house_value ~ housing_median_age + median_income + sm_PpH + sm_RpH + proximity_INLAND' , data=train_dataset).fit()\n",
    "# Full summary\n",
    "lm.summary()"
   ]
  },
  {
   "cell_type": "markdown",
   "metadata": {},
   "source": [
    "## Influence und Outliers\n",
    "\n",
    "Ausreißer und Punkte mit großen Einfluss auf die Regressionsgerade werden mittels Cook's Distance und Influence Plot identifiziert und aus dem Datensatz entfernt.\n",
    "\n",
    "Dies verbessert den R2 von 62,5 auf 72,5."
   ]
  },
  {
   "cell_type": "code",
   "execution_count": 12,
   "metadata": {},
   "outputs": [
    {
     "ename": "KeyboardInterrupt",
     "evalue": "",
     "output_type": "error",
     "traceback": [
      "\u001b[0;31m---------------------------------------------------------------------------\u001b[0m",
      "\u001b[0;31mKeyboardInterrupt\u001b[0m                         Traceback (most recent call last)",
      "\u001b[0;32m/var/folders/8p/j79wt3gs4478j15_gm54gfg40000gn/T/ipykernel_3692/1955419762.py\u001b[0m in \u001b[0;36m<module>\u001b[0;34m\u001b[0m\n\u001b[0;32m----> 1\u001b[0;31m \u001b[0mfig\u001b[0m \u001b[0;34m=\u001b[0m \u001b[0msm\u001b[0m\u001b[0;34m.\u001b[0m\u001b[0mgraphics\u001b[0m\u001b[0;34m.\u001b[0m\u001b[0minfluence_plot\u001b[0m\u001b[0;34m(\u001b[0m\u001b[0mlm\u001b[0m\u001b[0;34m,\u001b[0m \u001b[0mcriterion\u001b[0m\u001b[0;34m=\u001b[0m\u001b[0;34m\"cooks\"\u001b[0m\u001b[0;34m)\u001b[0m\u001b[0;34m\u001b[0m\u001b[0;34m\u001b[0m\u001b[0m\n\u001b[0m\u001b[1;32m      2\u001b[0m \u001b[0mfig\u001b[0m\u001b[0;34m.\u001b[0m\u001b[0mtight_layout\u001b[0m\u001b[0;34m(\u001b[0m\u001b[0mpad\u001b[0m\u001b[0;34m=\u001b[0m\u001b[0;36m1.0\u001b[0m\u001b[0;34m)\u001b[0m\u001b[0;34m\u001b[0m\u001b[0;34m\u001b[0m\u001b[0m\n",
      "\u001b[0;32m~/opt/anaconda3/lib/python3.8/site-packages/statsmodels/graphics/regressionplots.py\u001b[0m in \u001b[0;36minfluence_plot\u001b[0;34m(results, external, alpha, criterion, size, plot_alpha, ax, **kwargs)\u001b[0m\n\u001b[1;32m    920\u001b[0m \u001b[0;34m\u001b[0m\u001b[0m\n\u001b[1;32m    921\u001b[0m     \u001b[0minfl\u001b[0m \u001b[0;34m=\u001b[0m \u001b[0mresults\u001b[0m\u001b[0;34m.\u001b[0m\u001b[0mget_influence\u001b[0m\u001b[0;34m(\u001b[0m\u001b[0;34m)\u001b[0m\u001b[0;34m\u001b[0m\u001b[0;34m\u001b[0m\u001b[0m\n\u001b[0;32m--> 922\u001b[0;31m     res = _influence_plot(results, infl, external=external, alpha=alpha,\n\u001b[0m\u001b[1;32m    923\u001b[0m                           \u001b[0mcriterion\u001b[0m\u001b[0;34m=\u001b[0m\u001b[0mcriterion\u001b[0m\u001b[0;34m,\u001b[0m \u001b[0msize\u001b[0m\u001b[0;34m=\u001b[0m\u001b[0msize\u001b[0m\u001b[0;34m,\u001b[0m\u001b[0;34m\u001b[0m\u001b[0;34m\u001b[0m\u001b[0m\n\u001b[1;32m    924\u001b[0m                           plot_alpha=plot_alpha, ax=ax, **kwargs)\n",
      "\u001b[0;32m~/opt/anaconda3/lib/python3.8/site-packages/statsmodels/graphics/regressionplots.py\u001b[0m in \u001b[0;36m_influence_plot\u001b[0;34m(results, influence, external, alpha, criterion, size, plot_alpha, ax, **kwargs)\u001b[0m\n\u001b[1;32m    883\u001b[0m     \u001b[0mleverage\u001b[0m \u001b[0;34m=\u001b[0m \u001b[0minfl\u001b[0m\u001b[0;34m.\u001b[0m\u001b[0mhat_matrix_diag\u001b[0m\u001b[0;34m\u001b[0m\u001b[0;34m\u001b[0m\u001b[0m\n\u001b[1;32m    884\u001b[0m     \u001b[0;32mif\u001b[0m \u001b[0mexternal\u001b[0m\u001b[0;34m:\u001b[0m\u001b[0;34m\u001b[0m\u001b[0;34m\u001b[0m\u001b[0m\n\u001b[0;32m--> 885\u001b[0;31m         \u001b[0mresids\u001b[0m \u001b[0;34m=\u001b[0m \u001b[0minfl\u001b[0m\u001b[0;34m.\u001b[0m\u001b[0mresid_studentized_external\u001b[0m\u001b[0;34m\u001b[0m\u001b[0;34m\u001b[0m\u001b[0m\n\u001b[0m\u001b[1;32m    886\u001b[0m     \u001b[0;32melse\u001b[0m\u001b[0;34m:\u001b[0m\u001b[0;34m\u001b[0m\u001b[0;34m\u001b[0m\u001b[0m\n\u001b[1;32m    887\u001b[0m         \u001b[0mresids\u001b[0m \u001b[0;34m=\u001b[0m \u001b[0minfl\u001b[0m\u001b[0;34m.\u001b[0m\u001b[0mresid_studentized\u001b[0m\u001b[0;34m\u001b[0m\u001b[0;34m\u001b[0m\u001b[0m\n",
      "\u001b[0;32m~/opt/anaconda3/lib/python3.8/site-packages/pandas/_libs/properties.pyx\u001b[0m in \u001b[0;36mpandas._libs.properties.CachedProperty.__get__\u001b[0;34m()\u001b[0m\n",
      "\u001b[0;32m~/opt/anaconda3/lib/python3.8/site-packages/statsmodels/stats/outliers_influence.py\u001b[0m in \u001b[0;36mresid_studentized_external\u001b[0;34m(self)\u001b[0m\n\u001b[1;32m    661\u001b[0m         \u001b[0mrequires\u001b[0m \u001b[0mleave\u001b[0m \u001b[0mone\u001b[0m \u001b[0mout\u001b[0m \u001b[0mloop\u001b[0m \u001b[0;32mfor\u001b[0m \u001b[0mobservations\u001b[0m\u001b[0;34m\u001b[0m\u001b[0;34m\u001b[0m\u001b[0m\n\u001b[1;32m    662\u001b[0m         \"\"\"\n\u001b[0;32m--> 663\u001b[0;31m         \u001b[0msigma_looo\u001b[0m \u001b[0;34m=\u001b[0m \u001b[0mnp\u001b[0m\u001b[0;34m.\u001b[0m\u001b[0msqrt\u001b[0m\u001b[0;34m(\u001b[0m\u001b[0mself\u001b[0m\u001b[0;34m.\u001b[0m\u001b[0msigma2_not_obsi\u001b[0m\u001b[0;34m)\u001b[0m\u001b[0;34m\u001b[0m\u001b[0;34m\u001b[0m\u001b[0m\n\u001b[0m\u001b[1;32m    664\u001b[0m         \u001b[0;32mreturn\u001b[0m \u001b[0mself\u001b[0m\u001b[0;34m.\u001b[0m\u001b[0mget_resid_studentized_external\u001b[0m\u001b[0;34m(\u001b[0m\u001b[0msigma\u001b[0m\u001b[0;34m=\u001b[0m\u001b[0msigma_looo\u001b[0m\u001b[0;34m)\u001b[0m\u001b[0;34m\u001b[0m\u001b[0;34m\u001b[0m\u001b[0m\n\u001b[1;32m    665\u001b[0m \u001b[0;34m\u001b[0m\u001b[0m\n",
      "\u001b[0;32m~/opt/anaconda3/lib/python3.8/site-packages/pandas/_libs/properties.pyx\u001b[0m in \u001b[0;36mpandas._libs.properties.CachedProperty.__get__\u001b[0;34m()\u001b[0m\n",
      "\u001b[0;32m~/opt/anaconda3/lib/python3.8/site-packages/statsmodels/stats/outliers_influence.py\u001b[0m in \u001b[0;36msigma2_not_obsi\u001b[0;34m(self)\u001b[0m\n\u001b[1;32m    796\u001b[0m         \u001b[0muses\u001b[0m \u001b[0mresults\u001b[0m \u001b[0;32mfrom\u001b[0m \u001b[0mleave\u001b[0m\u001b[0;34m-\u001b[0m\u001b[0mone\u001b[0m\u001b[0;34m-\u001b[0m\u001b[0mobservation\u001b[0m\u001b[0;34m-\u001b[0m\u001b[0mout\u001b[0m \u001b[0mloop\u001b[0m\u001b[0;34m\u001b[0m\u001b[0;34m\u001b[0m\u001b[0m\n\u001b[1;32m    797\u001b[0m         \"\"\"\n\u001b[0;32m--> 798\u001b[0;31m         \u001b[0;32mreturn\u001b[0m \u001b[0mnp\u001b[0m\u001b[0;34m.\u001b[0m\u001b[0masarray\u001b[0m\u001b[0;34m(\u001b[0m\u001b[0mself\u001b[0m\u001b[0;34m.\u001b[0m\u001b[0m_res_looo\u001b[0m\u001b[0;34m[\u001b[0m\u001b[0;34m'mse_resid'\u001b[0m\u001b[0;34m]\u001b[0m\u001b[0;34m)\u001b[0m\u001b[0;34m\u001b[0m\u001b[0;34m\u001b[0m\u001b[0m\n\u001b[0m\u001b[1;32m    799\u001b[0m \u001b[0;34m\u001b[0m\u001b[0m\n\u001b[1;32m    800\u001b[0m     \u001b[0;34m@\u001b[0m\u001b[0mproperty\u001b[0m\u001b[0;34m\u001b[0m\u001b[0;34m\u001b[0m\u001b[0m\n",
      "\u001b[0;32m~/opt/anaconda3/lib/python3.8/site-packages/pandas/_libs/properties.pyx\u001b[0m in \u001b[0;36mpandas._libs.properties.CachedProperty.__get__\u001b[0;34m()\u001b[0m\n",
      "\u001b[0;32m~/opt/anaconda3/lib/python3.8/site-packages/statsmodels/stats/outliers_influence.py\u001b[0m in \u001b[0;36m_res_looo\u001b[0;34m(self)\u001b[0m\n\u001b[1;32m    956\u001b[0m         \u001b[0mcv_iter\u001b[0m \u001b[0;34m=\u001b[0m \u001b[0mLeaveOneOut\u001b[0m\u001b[0;34m(\u001b[0m\u001b[0mself\u001b[0m\u001b[0;34m.\u001b[0m\u001b[0mnobs\u001b[0m\u001b[0;34m)\u001b[0m\u001b[0;34m\u001b[0m\u001b[0;34m\u001b[0m\u001b[0m\n\u001b[1;32m    957\u001b[0m         \u001b[0;32mfor\u001b[0m \u001b[0minidx\u001b[0m\u001b[0;34m,\u001b[0m \u001b[0moutidx\u001b[0m \u001b[0;32min\u001b[0m \u001b[0mcv_iter\u001b[0m\u001b[0;34m:\u001b[0m\u001b[0;34m\u001b[0m\u001b[0;34m\u001b[0m\u001b[0m\n\u001b[0;32m--> 958\u001b[0;31m             \u001b[0mres_i\u001b[0m \u001b[0;34m=\u001b[0m \u001b[0mself\u001b[0m\u001b[0;34m.\u001b[0m\u001b[0mmodel_class\u001b[0m\u001b[0;34m(\u001b[0m\u001b[0mendog\u001b[0m\u001b[0;34m[\u001b[0m\u001b[0minidx\u001b[0m\u001b[0;34m]\u001b[0m\u001b[0;34m,\u001b[0m \u001b[0mexog\u001b[0m\u001b[0;34m[\u001b[0m\u001b[0minidx\u001b[0m\u001b[0;34m]\u001b[0m\u001b[0;34m)\u001b[0m\u001b[0;34m.\u001b[0m\u001b[0mfit\u001b[0m\u001b[0;34m(\u001b[0m\u001b[0;34m)\u001b[0m\u001b[0;34m\u001b[0m\u001b[0;34m\u001b[0m\u001b[0m\n\u001b[0m\u001b[1;32m    959\u001b[0m             \u001b[0mparams\u001b[0m\u001b[0;34m[\u001b[0m\u001b[0moutidx\u001b[0m\u001b[0;34m]\u001b[0m \u001b[0;34m=\u001b[0m \u001b[0mres_i\u001b[0m\u001b[0;34m.\u001b[0m\u001b[0mparams\u001b[0m\u001b[0;34m\u001b[0m\u001b[0;34m\u001b[0m\u001b[0m\n\u001b[1;32m    960\u001b[0m             \u001b[0mmse_resid\u001b[0m\u001b[0;34m[\u001b[0m\u001b[0moutidx\u001b[0m\u001b[0;34m]\u001b[0m \u001b[0;34m=\u001b[0m \u001b[0mres_i\u001b[0m\u001b[0;34m.\u001b[0m\u001b[0mmse_resid\u001b[0m\u001b[0;34m\u001b[0m\u001b[0;34m\u001b[0m\u001b[0m\n",
      "\u001b[0;32m~/opt/anaconda3/lib/python3.8/site-packages/statsmodels/regression/linear_model.py\u001b[0m in \u001b[0;36m__init__\u001b[0;34m(self, endog, exog, missing, hasconst, **kwargs)\u001b[0m\n\u001b[1;32m    890\u001b[0m                    \"An exception will be raised in the next version.\")\n\u001b[1;32m    891\u001b[0m             \u001b[0mwarnings\u001b[0m\u001b[0;34m.\u001b[0m\u001b[0mwarn\u001b[0m\u001b[0;34m(\u001b[0m\u001b[0mmsg\u001b[0m\u001b[0;34m,\u001b[0m \u001b[0mValueWarning\u001b[0m\u001b[0;34m)\u001b[0m\u001b[0;34m\u001b[0m\u001b[0;34m\u001b[0m\u001b[0m\n\u001b[0;32m--> 892\u001b[0;31m         super(OLS, self).__init__(endog, exog, missing=missing,\n\u001b[0m\u001b[1;32m    893\u001b[0m                                   hasconst=hasconst, **kwargs)\n\u001b[1;32m    894\u001b[0m         \u001b[0;32mif\u001b[0m \u001b[0;34m\"weights\"\u001b[0m \u001b[0;32min\u001b[0m \u001b[0mself\u001b[0m\u001b[0;34m.\u001b[0m\u001b[0m_init_keys\u001b[0m\u001b[0;34m:\u001b[0m\u001b[0;34m\u001b[0m\u001b[0;34m\u001b[0m\u001b[0m\n",
      "\u001b[0;32m~/opt/anaconda3/lib/python3.8/site-packages/statsmodels/regression/linear_model.py\u001b[0m in \u001b[0;36m__init__\u001b[0;34m(self, endog, exog, weights, missing, hasconst, **kwargs)\u001b[0m\n\u001b[1;32m    717\u001b[0m         \u001b[0;32melse\u001b[0m\u001b[0;34m:\u001b[0m\u001b[0;34m\u001b[0m\u001b[0;34m\u001b[0m\u001b[0m\n\u001b[1;32m    718\u001b[0m             \u001b[0mweights\u001b[0m \u001b[0;34m=\u001b[0m \u001b[0mweights\u001b[0m\u001b[0;34m.\u001b[0m\u001b[0msqueeze\u001b[0m\u001b[0;34m(\u001b[0m\u001b[0;34m)\u001b[0m\u001b[0;34m\u001b[0m\u001b[0;34m\u001b[0m\u001b[0m\n\u001b[0;32m--> 719\u001b[0;31m         super(WLS, self).__init__(endog, exog, missing=missing,\n\u001b[0m\u001b[1;32m    720\u001b[0m                                   weights=weights, hasconst=hasconst, **kwargs)\n\u001b[1;32m    721\u001b[0m         \u001b[0mnobs\u001b[0m \u001b[0;34m=\u001b[0m \u001b[0mself\u001b[0m\u001b[0;34m.\u001b[0m\u001b[0mexog\u001b[0m\u001b[0;34m.\u001b[0m\u001b[0mshape\u001b[0m\u001b[0;34m[\u001b[0m\u001b[0;36m0\u001b[0m\u001b[0;34m]\u001b[0m\u001b[0;34m\u001b[0m\u001b[0;34m\u001b[0m\u001b[0m\n",
      "\u001b[0;32m~/opt/anaconda3/lib/python3.8/site-packages/statsmodels/regression/linear_model.py\u001b[0m in \u001b[0;36m__init__\u001b[0;34m(self, endog, exog, **kwargs)\u001b[0m\n\u001b[1;32m    191\u001b[0m     \"\"\"\n\u001b[1;32m    192\u001b[0m     \u001b[0;32mdef\u001b[0m \u001b[0m__init__\u001b[0m\u001b[0;34m(\u001b[0m\u001b[0mself\u001b[0m\u001b[0;34m,\u001b[0m \u001b[0mendog\u001b[0m\u001b[0;34m,\u001b[0m \u001b[0mexog\u001b[0m\u001b[0;34m,\u001b[0m \u001b[0;34m**\u001b[0m\u001b[0mkwargs\u001b[0m\u001b[0;34m)\u001b[0m\u001b[0;34m:\u001b[0m\u001b[0;34m\u001b[0m\u001b[0;34m\u001b[0m\u001b[0m\n\u001b[0;32m--> 193\u001b[0;31m         \u001b[0msuper\u001b[0m\u001b[0;34m(\u001b[0m\u001b[0mRegressionModel\u001b[0m\u001b[0;34m,\u001b[0m \u001b[0mself\u001b[0m\u001b[0;34m)\u001b[0m\u001b[0;34m.\u001b[0m\u001b[0m__init__\u001b[0m\u001b[0;34m(\u001b[0m\u001b[0mendog\u001b[0m\u001b[0;34m,\u001b[0m \u001b[0mexog\u001b[0m\u001b[0;34m,\u001b[0m \u001b[0;34m**\u001b[0m\u001b[0mkwargs\u001b[0m\u001b[0;34m)\u001b[0m\u001b[0;34m\u001b[0m\u001b[0;34m\u001b[0m\u001b[0m\n\u001b[0m\u001b[1;32m    194\u001b[0m         \u001b[0mself\u001b[0m\u001b[0;34m.\u001b[0m\u001b[0m_data_attr\u001b[0m\u001b[0;34m.\u001b[0m\u001b[0mextend\u001b[0m\u001b[0;34m(\u001b[0m\u001b[0;34m[\u001b[0m\u001b[0;34m'pinv_wexog'\u001b[0m\u001b[0;34m,\u001b[0m \u001b[0;34m'wendog'\u001b[0m\u001b[0;34m,\u001b[0m \u001b[0;34m'wexog'\u001b[0m\u001b[0;34m,\u001b[0m \u001b[0;34m'weights'\u001b[0m\u001b[0;34m]\u001b[0m\u001b[0;34m)\u001b[0m\u001b[0;34m\u001b[0m\u001b[0;34m\u001b[0m\u001b[0m\n\u001b[1;32m    195\u001b[0m \u001b[0;34m\u001b[0m\u001b[0m\n",
      "\u001b[0;32m~/opt/anaconda3/lib/python3.8/site-packages/statsmodels/base/model.py\u001b[0m in \u001b[0;36m__init__\u001b[0;34m(self, endog, exog, **kwargs)\u001b[0m\n\u001b[1;32m    265\u001b[0m \u001b[0;34m\u001b[0m\u001b[0m\n\u001b[1;32m    266\u001b[0m     \u001b[0;32mdef\u001b[0m \u001b[0m__init__\u001b[0m\u001b[0;34m(\u001b[0m\u001b[0mself\u001b[0m\u001b[0;34m,\u001b[0m \u001b[0mendog\u001b[0m\u001b[0;34m,\u001b[0m \u001b[0mexog\u001b[0m\u001b[0;34m=\u001b[0m\u001b[0;32mNone\u001b[0m\u001b[0;34m,\u001b[0m \u001b[0;34m**\u001b[0m\u001b[0mkwargs\u001b[0m\u001b[0;34m)\u001b[0m\u001b[0;34m:\u001b[0m\u001b[0;34m\u001b[0m\u001b[0;34m\u001b[0m\u001b[0m\n\u001b[0;32m--> 267\u001b[0;31m         \u001b[0msuper\u001b[0m\u001b[0;34m(\u001b[0m\u001b[0;34m)\u001b[0m\u001b[0;34m.\u001b[0m\u001b[0m__init__\u001b[0m\u001b[0;34m(\u001b[0m\u001b[0mendog\u001b[0m\u001b[0;34m,\u001b[0m \u001b[0mexog\u001b[0m\u001b[0;34m,\u001b[0m \u001b[0;34m**\u001b[0m\u001b[0mkwargs\u001b[0m\u001b[0;34m)\u001b[0m\u001b[0;34m\u001b[0m\u001b[0;34m\u001b[0m\u001b[0m\n\u001b[0m\u001b[1;32m    268\u001b[0m         \u001b[0mself\u001b[0m\u001b[0;34m.\u001b[0m\u001b[0minitialize\u001b[0m\u001b[0;34m(\u001b[0m\u001b[0;34m)\u001b[0m\u001b[0;34m\u001b[0m\u001b[0;34m\u001b[0m\u001b[0m\n\u001b[1;32m    269\u001b[0m \u001b[0;34m\u001b[0m\u001b[0m\n",
      "\u001b[0;32m~/opt/anaconda3/lib/python3.8/site-packages/statsmodels/base/model.py\u001b[0m in \u001b[0;36m__init__\u001b[0;34m(self, endog, exog, **kwargs)\u001b[0m\n\u001b[1;32m     90\u001b[0m         \u001b[0mmissing\u001b[0m \u001b[0;34m=\u001b[0m \u001b[0mkwargs\u001b[0m\u001b[0;34m.\u001b[0m\u001b[0mpop\u001b[0m\u001b[0;34m(\u001b[0m\u001b[0;34m'missing'\u001b[0m\u001b[0;34m,\u001b[0m \u001b[0;34m'none'\u001b[0m\u001b[0;34m)\u001b[0m\u001b[0;34m\u001b[0m\u001b[0;34m\u001b[0m\u001b[0m\n\u001b[1;32m     91\u001b[0m         \u001b[0mhasconst\u001b[0m \u001b[0;34m=\u001b[0m \u001b[0mkwargs\u001b[0m\u001b[0;34m.\u001b[0m\u001b[0mpop\u001b[0m\u001b[0;34m(\u001b[0m\u001b[0;34m'hasconst'\u001b[0m\u001b[0;34m,\u001b[0m \u001b[0;32mNone\u001b[0m\u001b[0;34m)\u001b[0m\u001b[0;34m\u001b[0m\u001b[0;34m\u001b[0m\u001b[0m\n\u001b[0;32m---> 92\u001b[0;31m         self.data = self._handle_data(endog, exog, missing, hasconst,\n\u001b[0m\u001b[1;32m     93\u001b[0m                                       **kwargs)\n\u001b[1;32m     94\u001b[0m         \u001b[0mself\u001b[0m\u001b[0;34m.\u001b[0m\u001b[0mk_constant\u001b[0m \u001b[0;34m=\u001b[0m \u001b[0mself\u001b[0m\u001b[0;34m.\u001b[0m\u001b[0mdata\u001b[0m\u001b[0;34m.\u001b[0m\u001b[0mk_constant\u001b[0m\u001b[0;34m\u001b[0m\u001b[0;34m\u001b[0m\u001b[0m\n",
      "\u001b[0;32m~/opt/anaconda3/lib/python3.8/site-packages/statsmodels/base/model.py\u001b[0m in \u001b[0;36m_handle_data\u001b[0;34m(self, endog, exog, missing, hasconst, **kwargs)\u001b[0m\n\u001b[1;32m    130\u001b[0m \u001b[0;34m\u001b[0m\u001b[0m\n\u001b[1;32m    131\u001b[0m     \u001b[0;32mdef\u001b[0m \u001b[0m_handle_data\u001b[0m\u001b[0;34m(\u001b[0m\u001b[0mself\u001b[0m\u001b[0;34m,\u001b[0m \u001b[0mendog\u001b[0m\u001b[0;34m,\u001b[0m \u001b[0mexog\u001b[0m\u001b[0;34m,\u001b[0m \u001b[0mmissing\u001b[0m\u001b[0;34m,\u001b[0m \u001b[0mhasconst\u001b[0m\u001b[0;34m,\u001b[0m \u001b[0;34m**\u001b[0m\u001b[0mkwargs\u001b[0m\u001b[0;34m)\u001b[0m\u001b[0;34m:\u001b[0m\u001b[0;34m\u001b[0m\u001b[0;34m\u001b[0m\u001b[0m\n\u001b[0;32m--> 132\u001b[0;31m         \u001b[0mdata\u001b[0m \u001b[0;34m=\u001b[0m \u001b[0mhandle_data\u001b[0m\u001b[0;34m(\u001b[0m\u001b[0mendog\u001b[0m\u001b[0;34m,\u001b[0m \u001b[0mexog\u001b[0m\u001b[0;34m,\u001b[0m \u001b[0mmissing\u001b[0m\u001b[0;34m,\u001b[0m \u001b[0mhasconst\u001b[0m\u001b[0;34m,\u001b[0m \u001b[0;34m**\u001b[0m\u001b[0mkwargs\u001b[0m\u001b[0;34m)\u001b[0m\u001b[0;34m\u001b[0m\u001b[0;34m\u001b[0m\u001b[0m\n\u001b[0m\u001b[1;32m    133\u001b[0m         \u001b[0;31m# kwargs arrays could have changed, easier to just attach here\u001b[0m\u001b[0;34m\u001b[0m\u001b[0;34m\u001b[0m\u001b[0;34m\u001b[0m\u001b[0m\n\u001b[1;32m    134\u001b[0m         \u001b[0;32mfor\u001b[0m \u001b[0mkey\u001b[0m \u001b[0;32min\u001b[0m \u001b[0mkwargs\u001b[0m\u001b[0;34m:\u001b[0m\u001b[0;34m\u001b[0m\u001b[0;34m\u001b[0m\u001b[0m\n",
      "\u001b[0;32m~/opt/anaconda3/lib/python3.8/site-packages/statsmodels/base/data.py\u001b[0m in \u001b[0;36mhandle_data\u001b[0;34m(endog, exog, missing, hasconst, **kwargs)\u001b[0m\n\u001b[1;32m    671\u001b[0m \u001b[0;34m\u001b[0m\u001b[0m\n\u001b[1;32m    672\u001b[0m     \u001b[0mklass\u001b[0m \u001b[0;34m=\u001b[0m \u001b[0mhandle_data_class_factory\u001b[0m\u001b[0;34m(\u001b[0m\u001b[0mendog\u001b[0m\u001b[0;34m,\u001b[0m \u001b[0mexog\u001b[0m\u001b[0;34m)\u001b[0m\u001b[0;34m\u001b[0m\u001b[0;34m\u001b[0m\u001b[0m\n\u001b[0;32m--> 673\u001b[0;31m     return klass(endog, exog=exog, missing=missing, hasconst=hasconst,\n\u001b[0m\u001b[1;32m    674\u001b[0m                  **kwargs)\n",
      "\u001b[0;32m~/opt/anaconda3/lib/python3.8/site-packages/statsmodels/base/data.py\u001b[0m in \u001b[0;36m__init__\u001b[0;34m(self, endog, exog, missing, hasconst, **kwargs)\u001b[0m\n\u001b[1;32m     84\u001b[0m         \u001b[0mself\u001b[0m\u001b[0;34m.\u001b[0m\u001b[0mconst_idx\u001b[0m \u001b[0;34m=\u001b[0m \u001b[0;32mNone\u001b[0m\u001b[0;34m\u001b[0m\u001b[0;34m\u001b[0m\u001b[0m\n\u001b[1;32m     85\u001b[0m         \u001b[0mself\u001b[0m\u001b[0;34m.\u001b[0m\u001b[0mk_constant\u001b[0m \u001b[0;34m=\u001b[0m \u001b[0;36m0\u001b[0m\u001b[0;34m\u001b[0m\u001b[0;34m\u001b[0m\u001b[0m\n\u001b[0;32m---> 86\u001b[0;31m         \u001b[0mself\u001b[0m\u001b[0;34m.\u001b[0m\u001b[0m_handle_constant\u001b[0m\u001b[0;34m(\u001b[0m\u001b[0mhasconst\u001b[0m\u001b[0;34m)\u001b[0m\u001b[0;34m\u001b[0m\u001b[0;34m\u001b[0m\u001b[0m\n\u001b[0m\u001b[1;32m     87\u001b[0m         \u001b[0mself\u001b[0m\u001b[0;34m.\u001b[0m\u001b[0m_check_integrity\u001b[0m\u001b[0;34m(\u001b[0m\u001b[0;34m)\u001b[0m\u001b[0;34m\u001b[0m\u001b[0;34m\u001b[0m\u001b[0m\n\u001b[1;32m     88\u001b[0m         \u001b[0mself\u001b[0m\u001b[0;34m.\u001b[0m\u001b[0m_cache\u001b[0m \u001b[0;34m=\u001b[0m \u001b[0;34m{\u001b[0m\u001b[0;34m}\u001b[0m\u001b[0;34m\u001b[0m\u001b[0;34m\u001b[0m\u001b[0m\n",
      "\u001b[0;32m~/opt/anaconda3/lib/python3.8/site-packages/statsmodels/base/data.py\u001b[0m in \u001b[0;36m_handle_constant\u001b[0;34m(self, hasconst)\u001b[0m\n\u001b[1;32m    128\u001b[0m             \u001b[0;31m# detect where the constant is\u001b[0m\u001b[0;34m\u001b[0m\u001b[0;34m\u001b[0m\u001b[0;34m\u001b[0m\u001b[0m\n\u001b[1;32m    129\u001b[0m             \u001b[0mcheck_implicit\u001b[0m \u001b[0;34m=\u001b[0m \u001b[0;32mFalse\u001b[0m\u001b[0;34m\u001b[0m\u001b[0;34m\u001b[0m\u001b[0m\n\u001b[0;32m--> 130\u001b[0;31m             \u001b[0mexog_max\u001b[0m \u001b[0;34m=\u001b[0m \u001b[0mnp\u001b[0m\u001b[0;34m.\u001b[0m\u001b[0mmax\u001b[0m\u001b[0;34m(\u001b[0m\u001b[0mself\u001b[0m\u001b[0;34m.\u001b[0m\u001b[0mexog\u001b[0m\u001b[0;34m,\u001b[0m \u001b[0maxis\u001b[0m\u001b[0;34m=\u001b[0m\u001b[0;36m0\u001b[0m\u001b[0;34m)\u001b[0m\u001b[0;34m\u001b[0m\u001b[0;34m\u001b[0m\u001b[0m\n\u001b[0m\u001b[1;32m    131\u001b[0m             \u001b[0;32mif\u001b[0m \u001b[0;32mnot\u001b[0m \u001b[0mnp\u001b[0m\u001b[0;34m.\u001b[0m\u001b[0misfinite\u001b[0m\u001b[0;34m(\u001b[0m\u001b[0mexog_max\u001b[0m\u001b[0;34m)\u001b[0m\u001b[0;34m.\u001b[0m\u001b[0mall\u001b[0m\u001b[0;34m(\u001b[0m\u001b[0;34m)\u001b[0m\u001b[0;34m:\u001b[0m\u001b[0;34m\u001b[0m\u001b[0;34m\u001b[0m\u001b[0m\n\u001b[1;32m    132\u001b[0m                 \u001b[0;32mraise\u001b[0m \u001b[0mMissingDataError\u001b[0m\u001b[0;34m(\u001b[0m\u001b[0;34m'exog contains inf or nans'\u001b[0m\u001b[0;34m)\u001b[0m\u001b[0;34m\u001b[0m\u001b[0;34m\u001b[0m\u001b[0m\n",
      "\u001b[0;32m<__array_function__ internals>\u001b[0m in \u001b[0;36mamax\u001b[0;34m(*args, **kwargs)\u001b[0m\n",
      "\u001b[0;32m~/opt/anaconda3/lib/python3.8/site-packages/numpy/core/fromnumeric.py\u001b[0m in \u001b[0;36mamax\u001b[0;34m(a, axis, out, keepdims, initial, where)\u001b[0m\n\u001b[1;32m   2752\u001b[0m     \u001b[0;36m5\u001b[0m\u001b[0;34m\u001b[0m\u001b[0;34m\u001b[0m\u001b[0m\n\u001b[1;32m   2753\u001b[0m     \"\"\"\n\u001b[0;32m-> 2754\u001b[0;31m     return _wrapreduction(a, np.maximum, 'max', axis, None, out,\n\u001b[0m\u001b[1;32m   2755\u001b[0m                           keepdims=keepdims, initial=initial, where=where)\n\u001b[1;32m   2756\u001b[0m \u001b[0;34m\u001b[0m\u001b[0m\n",
      "\u001b[0;32m~/opt/anaconda3/lib/python3.8/site-packages/numpy/core/fromnumeric.py\u001b[0m in \u001b[0;36m_wrapreduction\u001b[0;34m(obj, ufunc, method, axis, dtype, out, **kwargs)\u001b[0m\n\u001b[1;32m     84\u001b[0m                 \u001b[0;32mreturn\u001b[0m \u001b[0mreduction\u001b[0m\u001b[0;34m(\u001b[0m\u001b[0maxis\u001b[0m\u001b[0;34m=\u001b[0m\u001b[0maxis\u001b[0m\u001b[0;34m,\u001b[0m \u001b[0mout\u001b[0m\u001b[0;34m=\u001b[0m\u001b[0mout\u001b[0m\u001b[0;34m,\u001b[0m \u001b[0;34m**\u001b[0m\u001b[0mpasskwargs\u001b[0m\u001b[0;34m)\u001b[0m\u001b[0;34m\u001b[0m\u001b[0;34m\u001b[0m\u001b[0m\n\u001b[1;32m     85\u001b[0m \u001b[0;34m\u001b[0m\u001b[0m\n\u001b[0;32m---> 86\u001b[0;31m     \u001b[0;32mreturn\u001b[0m \u001b[0mufunc\u001b[0m\u001b[0;34m.\u001b[0m\u001b[0mreduce\u001b[0m\u001b[0;34m(\u001b[0m\u001b[0mobj\u001b[0m\u001b[0;34m,\u001b[0m \u001b[0maxis\u001b[0m\u001b[0;34m,\u001b[0m \u001b[0mdtype\u001b[0m\u001b[0;34m,\u001b[0m \u001b[0mout\u001b[0m\u001b[0;34m,\u001b[0m \u001b[0;34m**\u001b[0m\u001b[0mpasskwargs\u001b[0m\u001b[0;34m)\u001b[0m\u001b[0;34m\u001b[0m\u001b[0;34m\u001b[0m\u001b[0m\n\u001b[0m\u001b[1;32m     87\u001b[0m \u001b[0;34m\u001b[0m\u001b[0m\n\u001b[1;32m     88\u001b[0m \u001b[0;34m\u001b[0m\u001b[0m\n",
      "\u001b[0;31mKeyboardInterrupt\u001b[0m: "
     ]
    },
    {
     "data": {
      "image/png": "[encoded data removed]",
      "text/plain": [
       "<Figure size 432x288 with 1 Axes>"
      ]
     },
     "metadata": {
      "filenames": {
       "image/png": "/Users/markus/NoCloudDoks/JupyterBooks/AppliedStats_WS2021/_build/jupyter_execute/regression_18_1.png"
      }
     },
     "output_type": "display_data"
    }
   ],
   "source": [
    "fig = sm.graphics.influence_plot(lm, criterion=\"cooks\")\n",
    "fig.tight_layout(pad=1.0)"
   ]
  },
  {
   "cell_type": "code",
   "execution_count": 13,
   "metadata": {},
   "outputs": [
    {
     "name": "stdout",
     "output_type": "stream",
     "text": [
      "Critical Cooks distance: 0.0002580811665268727\n",
      "Int64Index([13667,  8780, 17298, 19308, 16953,  7893, 17178, 19278,  8298,\n",
      "              390,\n",
      "            ...\n",
      "            17162,  2487,  6332, 10008,  9773,  5171, 11151, 14913, 13695,\n",
      "             8185],\n",
      "           dtype='int64', length=924) \n",
      " [0.00027069 0.00051385 0.00056884 0.00063702 0.0003786  0.00153688\n",
      " 0.00045435 0.00031262 0.0003456  0.00047778 0.00028509 0.0002717\n",
      " 0.0004633  0.00036501 0.00161999 0.00040728 0.00439233 0.00081595\n",
      " 0.00034619 0.000455   0.0014027  0.00135286 0.00028554 0.00078443\n",
      " 0.00026739 0.00026843 0.00028671 0.00163723 0.00073892 0.00043956\n",
      " 0.0002625  0.0012931  0.00031408 0.00168655 0.00027611 0.00072424\n",
      " 0.00031134 0.00026534 0.00035736 0.00073711 0.00042623 0.00236697\n",
      " 0.00112014 0.00035835 0.00120994 0.00088666 0.00033455 0.00090281\n",
      " 0.00064843 0.00117344 0.00092746 0.00097496 0.00074999 0.00043042\n",
      " 0.00041491 0.00032414 0.00030911 0.00175696 0.00037866 0.00038702\n",
      " 0.000999   0.00026481 0.00027795 0.00027056 0.00096538 0.00076813\n",
      " 0.0004502  0.00061381 0.00036518 0.00026697 0.00030889 0.00090538\n",
      " 0.00027864 0.00040744 0.00031416 0.00030616 0.00043334 0.00044891\n",
      " 0.00038023 0.0006497  0.0005164  0.0005461  0.0005412  0.00043778\n",
      " 0.00055081 0.00143209 0.00103305 0.0006587  0.00039624 0.00061209\n",
      " 0.00107534 0.00054905 0.00188573 0.00078603 0.00044584 0.00418828\n",
      " 0.01110554 0.00054293 0.00418615 0.00051532 0.00028513 0.00044412\n",
      " 0.00056656 0.00043094 0.00049963 0.00087719 0.00026201 0.000288\n",
      " 0.040992   0.00057455 0.00053115 0.00133992 0.00048112 0.00064058\n",
      " 0.0004342  0.00039544 0.00030094 0.00033343 0.00034022 0.00039917\n",
      " 0.00051683 0.00080402 0.00080557 0.00074035 0.00108309 0.00045674\n",
      " 0.00103139 0.00025889 0.00066208 0.00034072 0.00026112 0.00053248\n",
      " 0.0252304  0.00225475 0.00073337 0.00062804 0.0003647  0.0004585\n",
      " 0.0014515  0.00026511 0.00029845 0.00164961 0.000275   0.00055342\n",
      " 0.00029403 0.00058959 0.00035189 0.00038521 0.00103092 0.00036451\n",
      " 0.0002671  0.00034344 0.0011026  0.00030728 0.00029359 0.00091034\n",
      " 0.00080215 0.00029273 0.00106121 0.00032075 0.0006106  0.00031332\n",
      " 0.00041524 0.00029238 0.00093672 0.00027603 0.00057534 0.00103795\n",
      " 0.00035345 0.00033128 0.00076785 0.00027334 0.00111174 0.00048448\n",
      " 0.00050585 0.00032696 0.00030317 0.00032401 0.00805563 0.00037421\n",
      " 0.00025983 0.00158947 0.00078723 0.00034922 0.00044795 0.0004564\n",
      " 0.00085295 0.0002814  0.00026382 0.00026485 0.00035403 0.00071634\n",
      " 0.00173958 0.00035448 0.00148995 0.00054682 0.00030754 0.00035105\n",
      " 0.00051277 0.00092398 0.00049701 0.00123165 0.00038473 0.00088796\n",
      " 0.00051858 0.00033427 0.00252813 0.00044325 0.00051504 0.0011879\n",
      " 0.0011714  0.00086986 0.00155985 0.0002695  0.00027289 0.00030251\n",
      " 0.00035537 0.00028561 0.00096294 0.00051906 0.00061689 0.00030457\n",
      " 0.00090871 0.00085425 0.00027165 0.00027892 0.00028451 0.0003786\n",
      " 0.00064006 0.00040191 0.00028689 0.00143285 0.00069697 0.0017228\n",
      " 0.00155294 0.00101105 0.00033792 0.0003693  0.00137615 0.00035737\n",
      " 0.00043765 0.00040047 0.00033826 0.00025912 0.00047756 0.00049941\n",
      " 0.00030429 0.00114385 0.00027904 0.00436222 0.0006805  0.00036779\n",
      " 0.00027634 0.00043455 0.00040697 0.00056024 0.00031814 0.00026262\n",
      " 0.0011794  0.00159488 0.00104718 0.00034593 0.00026908 0.00050495\n",
      " 0.00030153 0.00031127 0.00136154 0.00118531 0.00036336 0.00033325\n",
      " 0.00066492 0.00032357 0.00062986 0.00081668 0.00062882 0.00064167\n",
      " 0.00054181 0.00037513 0.00093444 0.00101427 0.0003339  0.00033095\n",
      " 0.00026325 0.00066413 0.00055696 0.00026269 0.0004893  0.00087265\n",
      " 0.00032585 0.00089404 0.00038589 0.00030634 0.00036052 0.00028327\n",
      " 0.00057351 0.00041036 0.00032291 0.00228133 0.00030271 0.00301586\n",
      " 0.0020099  0.00104848 0.00055613 0.00168061 0.0003676  0.0006795\n",
      " 0.00042357 0.0003508  0.00036474 0.00061956 0.00029346 0.00027709\n",
      " 0.00131998 0.00033755 0.00035182 0.00088542 0.00033817 0.00065733\n",
      " 0.00032228 0.00068254 0.00036227 0.00040348 0.00037336 0.00037618\n",
      " 0.00047449 0.001003   0.00691652 0.00171002 0.00044548 0.00036931\n",
      " 0.00028056 0.00051573 0.00078105 0.00054353 0.00081929 0.00027083\n",
      " 0.00028775 0.000538   0.0007677  0.00064453 0.00103266 0.01405932\n",
      " 0.00030072 0.00074603 0.00304237 0.00112879 0.00029054 0.0009365\n",
      " 0.00284481 0.00050442 0.00084133 0.00029893 0.00033995 0.00028439\n",
      " 0.00032744 0.00039874 0.00026934 0.00126322 0.00165217 0.0007416\n",
      " 0.00138046 0.00032343 0.00195613 0.00031923 0.00096346 0.00126904\n",
      " 0.00062969 0.00116071 0.00183261 0.00127634 0.00091264 0.0007443\n",
      " 0.00025919 0.00045081 0.00056533 0.0003192  0.00083152 0.00038732\n",
      " 0.00037167 0.00030242 0.00029284 0.00032023 0.00220348 0.00030925\n",
      " 0.00085658 0.00131294 0.0013674  0.00067484 0.00108784 0.00034242\n",
      " 0.00049202 0.00031759 0.00029684 0.00028553 0.00067185 0.00034928\n",
      " 0.00058833 0.00057891 0.00039698 0.00033235 0.00124268 0.00085539\n",
      " 0.00332101 0.0011286  0.00040968 0.00038652 0.00034237 0.00027418\n",
      " 0.00060558 0.00037144 0.00040548 0.00034491 0.00030775 0.00029388\n",
      " 0.00033708 0.00045803 0.00126671 0.00030782 0.0004514  0.0002902\n",
      " 0.00089649 0.00108496 0.00079795 0.00051181 0.00052363 0.00038682\n",
      " 0.00028    0.0002901  0.02642253 0.00034956 0.00043024 0.00032782\n",
      " 0.00199976 0.00077154 0.00058505 0.00028615 0.00126531 0.0005901\n",
      " 0.00109432 0.00039239 0.00028065 0.00055054 0.00079825 0.00086726\n",
      " 0.00026793 0.00041441 0.00027935 0.00044475 0.00035218 0.00026644\n",
      " 0.00053111 0.00054275 0.00689673 0.00054221 0.00054833 0.0009787\n",
      " 0.00033421 0.00030481 0.00051118 0.00028828 0.00096586 0.00035751\n",
      " 0.00029024 0.00041217 0.00053295 0.00029652 0.00163317 0.00057344\n",
      " 0.00091379 0.0003177  0.00047984 0.00072367 0.0019003  0.00037638\n",
      " 0.00066069 0.00041057 0.00035914 0.00045752 0.00030664 0.00030137\n",
      " 0.00054843 0.00043019 0.00029918 0.00122625 0.00029067 0.00057108\n",
      " 0.00036219 0.00059723 0.00041686 0.00051858 0.00071125 0.00107501\n",
      " 0.00088562 0.00088569 0.00031323 0.00096506 0.00042812 0.00123065\n",
      " 0.00031515 0.00033078 0.00101481 0.00068781 0.00078343 0.0002912\n",
      " 0.00048186 0.00027075 0.00030955 0.00037333 0.00065813 0.00033991\n",
      " 0.0003381  0.00118498 0.00075426 0.00047042 0.00028463 0.01716438\n",
      " 0.0004971  0.00161763 0.00111987 0.00051773 0.00039081 0.00058386\n",
      " 0.00027335 0.00080847 0.00049714 0.0002611  0.00027588 0.00031458\n",
      " 0.00077235 0.00199794 0.00126858 0.00030435 0.00067676 0.0002895\n",
      " 0.00052997 0.00028378 0.00064945 0.00033478 0.00113689 0.00085474\n",
      " 0.00061267 0.00032348 0.00031386 0.00058764 0.00031427 0.00094439\n",
      " 0.00087186 0.00052266 0.00065494 0.00364502 0.00044501 0.00049879\n",
      " 0.0005084  0.00229316 0.00046459 0.00031512 0.00043448 0.00032582\n",
      " 0.00033282 0.00063134 0.0003119  0.00054114 0.00029427 0.00033567\n",
      " 0.00058506 0.00029121 0.00093758 0.00026869 0.00037335 0.00026163\n",
      " 0.00066454 0.0004842  0.00077124 0.00041374 0.00081905 0.00039351\n",
      " 0.00079426 0.00059625 0.00130152 0.00085155 0.00044698 0.00028223\n",
      " 0.00138392 0.00043485 0.00050584 0.00037821 0.00036709 0.00039791\n",
      " 0.00031359 0.00047698 0.00052084 0.00029773 0.00220765 0.00038917\n",
      " 0.00031495 0.00033308 0.00100153 0.00072728 0.00040707 0.00060566\n",
      " 0.00027152 0.00032315 0.00077937 0.00195674 0.00029779 0.00080071\n",
      " 0.0004748  0.00041798 0.00113609 0.00101917 0.00030026 0.00030696\n",
      " 0.00060277 0.00067531 0.00060574 0.00094315 0.00029652 0.00025809\n",
      " 0.00040141 0.00027616 0.00081029 0.0024273  0.00061192 0.00066204\n",
      " 0.00063196 0.00084919 0.00026346 0.00028953 0.00088056 0.00057038\n",
      " 0.00087969 0.00033693 0.00041473 0.00036256 0.00038209 0.0014266\n",
      " 0.00055638 0.00077893 0.00047869 0.00027846 0.00029183 0.00036105\n",
      " 0.00032776 0.00041255 0.00040952 0.00146364 0.00063862 0.00040741\n",
      " 0.0003878  0.00033408 0.00028399 0.00048603 0.00371309 0.00081797\n",
      " 0.0002644  0.00179405 0.00026353 0.00156536 0.00101957 0.00211428\n",
      " 0.00029497 0.00028946 0.0002725  0.00040784 0.00053609 0.00387342\n",
      " 0.00027917 0.00167167 0.00069378 0.00156896 0.00032614 0.00038634\n",
      " 0.00062393 0.00062066 0.00051013 0.00049931 0.00039292 0.0016127\n",
      " 0.00055564 0.00030259 0.01625367 0.00033859 0.0002851  0.00046071\n",
      " 0.00038045 0.00038568 0.00053188 0.00037674 0.00102836 0.00037903\n",
      " 0.00048705 0.00035326 0.0006848  0.00125785 0.00064938 0.00026237\n",
      " 0.00112308 0.00049962 0.00084653 0.00118895 0.00038244 0.00073953\n",
      " 0.00064282 0.00064364 0.00056019 0.00059297 0.00063219 0.0013759\n",
      " 0.0003297  0.00025849 0.00040143 0.00030056 0.00027339 0.00108521\n",
      " 0.00027137 0.00052484 0.00029676 0.00039449 0.00034452 0.00129428\n",
      " 0.00147272 0.00038809 0.00029124 0.00056026 0.00030696 0.00034383\n",
      " 0.00062133 0.00039104 0.00053493 0.00045237 0.00028105 0.00036231\n",
      " 0.00140934 0.00188497 0.00028552 0.00061632 0.00202483 0.0008638\n",
      " 0.00036767 0.0003006  0.00069165 0.00028366 0.00043484 0.00038541\n",
      " 0.0002588  0.00029744 0.00127759 0.0003813  0.00030152 0.00068686\n",
      " 0.00034878 0.00061434 0.0002917  0.00033533 0.00072903 0.00081014\n",
      " 0.00028585 0.00058928 0.00099075 0.00059416 0.00033374 0.00089291\n",
      " 0.00133518 0.00044442 0.00087891 0.00053054 0.00046011 0.00034233\n",
      " 0.00038157 0.00050767 0.00031801 0.00081956 0.00121541 0.00034989\n",
      " 0.00040701 0.00099318 0.00026952 0.00027415 0.00095294 0.00029633\n",
      " 0.00049386 0.00036072 0.00032569 0.00072068 0.0003234  0.00065203\n",
      " 0.00026912 0.00070484 0.00110409 0.0011127  0.00055872 0.00033855\n",
      " 0.00030328 0.00026776 0.00035986 0.00032666 0.00601483 0.00043329\n",
      " 0.0012072  0.00057363 0.00034267 0.00032999 0.00056702 0.0017207\n",
      " 0.0005295  0.00090421 0.00027067 0.00045819 0.000357   0.0005968\n",
      " 0.0005482  0.00044391 0.00105542 0.00028835 0.00103903 0.00030771\n",
      " 0.00036886 0.00027135 0.00050794 0.00064777 0.00052926 0.00030548\n",
      " 0.0005364  0.00035633 0.00047977 0.00098616 0.00037312 0.00027952\n",
      " 0.00027309 0.00649654 0.00027061 0.00028784 0.00035067 0.00045872\n",
      " 0.00047488 0.00077002 0.00100451 0.00096535 0.00028098 0.00090472\n",
      " 0.00045469 0.00028351 0.0002707  0.0006105  0.00086958 0.00038597\n",
      " 0.00045078 0.00038657 0.00040662 0.00063111 0.00066065 0.00027192\n",
      " 0.00040744 0.00059975 0.00076845 0.0004773  0.00033186 0.00031101\n",
      " 0.00026627 0.00037512 0.00029194 0.00028384 0.00067839 0.00055395\n",
      " 0.00253954 0.00058849 0.00039685 0.00146759 0.00036286 0.00034395\n",
      " 0.00029479 0.00060985 0.00035512 0.0745915  0.00044919 0.00036388\n",
      " 0.00030583 0.00120714 0.00044083 0.00042427 0.00037855 0.00060356\n",
      " 0.00166024 0.0004177  0.00145697 0.00219196 0.00092606 0.00033948\n",
      " 0.00032195 0.00033067 0.00232139 0.00225845 0.00030074 0.00038499\n",
      " 0.0004808  0.00026029 0.00076013 0.00242502 0.00033502 0.00181117\n",
      " 0.00104309 0.00050264 0.0003499  0.00043227 0.00038052 0.00061503\n",
      " 0.00053274 0.00046935 0.00055533 0.00038717 0.00106013 0.00028259\n",
      " 0.0004318  0.001001   0.00050753 0.00031282 0.00091282 0.000305\n",
      " 0.00124375 0.00068208 0.00061985 0.00028438 0.00027873 0.00038996]\n"
     ]
    }
   ],
   "source": [
    "# obtain Cook's distance \n",
    "lm_cooksd = lm.get_influence().cooks_distance[0]\n",
    "\n",
    "# get length of df to obtain n\n",
    "n = len(train_dataset[\"median_income\"])\n",
    "\n",
    "# calculate critical d\n",
    "critical_d = 4/n\n",
    "print('Critical Cooks distance:', critical_d)\n",
    "\n",
    "# identification of potential outliers with leverage\n",
    "out_d = lm_cooksd > critical_d\n",
    "\n",
    "# output potential outliers with leverage\n",
    "print(train_dataset.index[out_d], \"\\n\", lm_cooksd[out_d])\n",
    "dont_want = np.array(train_dataset.index[out_d])"
   ]
  },
  {
   "cell_type": "code",
   "execution_count": 14,
   "metadata": {},
   "outputs": [
    {
     "name": "stdout",
     "output_type": "stream",
     "text": [
      "Gelöschte Datensätze nach Cook's distance: 924\n"
     ]
    }
   ],
   "source": [
    "a = len(train_dataset)\n",
    "\n",
    "for i in dont_want:\n",
    "    train_dataset = train_dataset.drop(index=i)\n",
    "\n",
    "print(\"Gelöschte Datensätze nach Cook's distance:\", a - len(train_dataset))"
   ]
  },
  {
   "cell_type": "code",
   "execution_count": 15,
   "metadata": {},
   "outputs": [
    {
     "data": {
      "image/png": "[encoded data removed]",
      "text/plain": [
       "<Figure size 432x288 with 1 Axes>"
      ]
     },
     "metadata": {
      "filenames": {
       "image/png": "/Users/markus/NoCloudDoks/JupyterBooks/AppliedStats_WS2021/_build/jupyter_execute/regression_21_0.png"
      }
     },
     "output_type": "display_data"
    }
   ],
   "source": [
    "lm = smf.ols(formula='median_house_value ~ housing_median_age + median_income + sm_PpH + sm_RpH + proximity_INLAND' , data=train_dataset).fit()\n",
    "fig = sm.graphics.influence_plot(lm, criterion=\"cooks\")\n",
    "fig.tight_layout(pad=1.0)"
   ]
  },
  {
   "cell_type": "code",
   "execution_count": 16,
   "metadata": {},
   "outputs": [
    {
     "name": "stdout",
     "output_type": "stream",
     "text": [
      "R2: 0.7245126582403816\n",
      "R2_adj: 0.7244181125125486\n"
     ]
    }
   ],
   "source": [
    "print(\"R2:\",lm.rsquared)\n",
    "print(\"R2_adj:\",lm.rsquared_adj)"
   ]
  },
  {
   "cell_type": "markdown",
   "metadata": {},
   "source": [
    "## Nicht-Linearität und Heteroskedastizität\n",
    "\n",
    "Der Fitted vs Regression Plot zeigt jedoch einen möglichen nicht-linearen Zusammenhang in der Varianz der Residuen.</br>\n",
    "Dies wird mit dem **Breusch-Pagan Lagrange Multiplier test** überprüft. Homoskedastizität kann nicht angenommen werden, weil der p-value kleiner 0.05 ist und die Null-Hypothese nicht verworfen wird.\n"
   ]
  },
  {
   "cell_type": "code",
   "execution_count": 17,
   "metadata": {},
   "outputs": [
    {
     "name": "stdout",
     "output_type": "stream",
     "text": [
      "eval_env: 1\n",
      "eval_env: 1\n",
      "eval_env: 1\n",
      "eval_env: 1\n",
      "eval_env: 1\n",
      "eval_env: 1\n"
     ]
    },
    {
     "data": {
      "image/png": "[encoded data removed]",
      "text/plain": [
       "<Figure size 432x288 with 6 Axes>"
      ]
     },
     "metadata": {
      "filenames": {
       "image/png": "/Users/markus/NoCloudDoks/JupyterBooks/AppliedStats_WS2021/_build/jupyter_execute/regression_24_1.png"
      }
     },
     "output_type": "display_data"
    }
   ],
   "source": [
    "fig = sm.graphics.plot_partregress_grid(lm)\n",
    "fig.tight_layout(pad=1.0)"
   ]
  },
  {
   "cell_type": "code",
   "execution_count": 18,
   "metadata": {},
   "outputs": [
    {
     "data": {
      "image/png": "[encoded data removed]",
      "text/plain": [
       "<Figure size 432x288 with 1 Axes>"
      ]
     },
     "metadata": {
      "filenames": {
       "image/png": "/Users/markus/NoCloudDoks/JupyterBooks/AppliedStats_WS2021/_build/jupyter_execute/regression_25_0.png"
      }
     },
     "output_type": "display_data"
    }
   ],
   "source": [
    "# fitted values\n",
    "model_fitted_y = lm.fittedvalues\n",
    "\n",
    "#  Plot\n",
    "plot = sns.residplot(x=model_fitted_y, y='median_house_value', data=train_dataset, lowess=True, \n",
    "                     scatter_kws={'alpha': 0.5}, \n",
    "                     line_kws={'color': 'red', 'lw': 1, 'alpha': 0.8})\n",
    "\n",
    "# Titel and labels\n",
    "plot.set_title('Residuals vs Fitted')\n",
    "plot.set_xlabel('Fitted values')\n",
    "plot.set_ylabel('Residuals');"
   ]
  },
  {
   "cell_type": "code",
   "execution_count": 19,
   "metadata": {},
   "outputs": [
    {
     "data": {
      "text/plain": [
       "[('Lagrange multiplier statistic', 1099.4848025329363),\n",
       " ('p-value', 1.72860501759635e-235),\n",
       " ('f-value', 237.74072981066067),\n",
       " ('f p-value', 7.149384108949611e-245)]"
      ]
     },
     "execution_count": 19,
     "metadata": {},
     "output_type": "execute_result"
    }
   ],
   "source": [
    "name = ['Lagrange multiplier statistic', 'p-value', 'f-value', 'f p-value']\n",
    "test = sm.stats.het_breuschpagan(lm.resid, lm.model.exog)\n",
    "lzip(name, test)"
   ]
  },
  {
   "cell_type": "markdown",
   "metadata": {},
   "source": [
    "## Validierung mit Testdaten"
   ]
  },
  {
   "cell_type": "code",
   "execution_count": 20,
   "metadata": {},
   "outputs": [],
   "source": [
    "# Add the regression predictions (as \"pred\") to our DataFrame\n",
    "train_dataset['y_pred'] = lm.predict()\n",
    "# Predict with Test_Dataset\n",
    "test_dataset['y_pred'] = lm.predict(test_dataset)"
   ]
  },
  {
   "cell_type": "code",
   "execution_count": 21,
   "metadata": {},
   "outputs": [
    {
     "name": "stdout",
     "output_type": "stream",
     "text": [
      "MSE train dataset: 2168.635897340869\n",
      "RMSE train dataset: 46.56861493904311\n",
      "MSE test dataset: 3684.1823574384193\n",
      "RMSE test dataset: 60.697465823858074\n"
     ]
    }
   ],
   "source": [
    "# MSE\n",
    "print(\"MSE train dataset:\",mse(train_dataset['median_house_value'], train_dataset['y_pred']))\n",
    "print(\"RMSE train dataset:\",rmse(train_dataset['median_house_value'], train_dataset['y_pred']))\n",
    "print(\"MSE test dataset:\",mse(test_dataset['median_house_value'], test_dataset['y_pred']))\n",
    "print(\"RMSE test dataset:\",rmse(test_dataset['median_house_value'], test_dataset['y_pred']))"
   ]
  },
  {
   "cell_type": "code",
   "execution_count": 22,
   "metadata": {},
   "outputs": [
    {
     "data": {
      "image/png": "[encoded data removed]",
      "text/plain": [
       "<Figure size 432x288 with 1 Axes>"
      ]
     },
     "metadata": {
      "filenames": {
       "image/png": "/Users/markus/NoCloudDoks/JupyterBooks/AppliedStats_WS2021/_build/jupyter_execute/regression_30_0.png"
      }
     },
     "output_type": "display_data"
    }
   ],
   "source": [
    "sns.residplot(x=\"y_pred\", y=\"median_house_value\", data=test_dataset, scatter_kws={\"s\": 80});"
   ]
  },
  {
   "cell_type": "markdown",
   "metadata": {},
   "source": [
    "# Modellierung in SK Learn Pipeline\n",
    "\n",
    "Nachfolgend die Regression mit der Pipeline von SKLearn mit dem Austausch von Parametern zum Darstellen der Pipeline-Funktionalität.</br>\n",
    "Mit anpassen einer Liste von Predictor-Variablen können über die Pipeline zahlreiche Modelle ermittelt werden.\n",
    "\n",
    "Zu beachten ist, dass die in Data.ipynb durchgeführten Log-Transformationen ebenfalls über die Pipeline erfolgen. D.h. getrennt für Trainings- und Testdaten.</br>\n",
    "Dies hilft bei der Standardizierung, welche hier ebenfalls für alle nummerischen Variablen vorgenommen wird.\n",
    "\n",
    "Die Erkenntnisse aus Regression-Diagnostics könnten an dieser Stelle berücksichtigt werden. Dies wird ausgelassen, weil mir noch die Erfahrung in Python und die Zeit fehlt.</br>\n",
    "Da die R2-Werte um den gleichen Wert wie das Statsmodels-Modelle ohne Ausreißer-Entfernung (62,5), wird geschlussfolgert das eine Reduktion der Predictoren keine signifikante Verbesserung bringt."
   ]
  },
  {
   "cell_type": "code",
   "execution_count": 23,
   "metadata": {},
   "outputs": [],
   "source": [
    "from sklearn.compose import ColumnTransformer\n",
    "from sklearn.compose import make_column_selector as selector\n",
    "from sklearn.pipeline import Pipeline\n",
    "from sklearn import set_config\n",
    "from sklearn.preprocessing import StandardScaler, OneHotEncoder\n",
    "from sklearn.linear_model import LinearRegression\n",
    "from sklearn.preprocessing import FunctionTransformer\n",
    "from sklearn.metrics import mean_squared_error\n",
    "from sklearn.metrics import r2_score"
   ]
  },
  {
   "cell_type": "code",
   "execution_count": 24,
   "metadata": {},
   "outputs": [
    {
     "name": "stdout",
     "output_type": "stream",
     "text": [
      "<class 'pandas.core.frame.DataFrame'>\n",
      "RangeIndex: 19374 entries, 0 to 19373\n",
      "Data columns (total 3 columns):\n",
      " #   Column               Non-Null Count  Dtype   \n",
      "---  ------               --------------  -----   \n",
      " 0   median_income        19374 non-null  float64 \n",
      " 1   proximity            19374 non-null  category\n",
      " 2   rooms_per_household  19374 non-null  float64 \n",
      "dtypes: category(1), float64(2)\n",
      "memory usage: 321.9 KB\n"
     ]
    }
   ],
   "source": [
    "features = [\"median_income\",\"proximity\",\"rooms_per_household\"]\n",
    "col_log_ = [\"rooms_per_household\"]\n",
    "med_log_ = 'median_income'\n",
    "X = df[features]\n",
    "y = df[\"median_house_value\"]\n",
    "\n",
    "X.info()\n"
   ]
  },
  {
   "cell_type": "code",
   "execution_count": 25,
   "metadata": {},
   "outputs": [],
   "source": [
    "from sklearn.model_selection import train_test_split\n",
    "\n",
    "X_train, X_test, y_train, y_test = train_test_split(X, y, test_size=0.2, random_state=42)"
   ]
  },
  {
   "cell_type": "code",
   "execution_count": 26,
   "metadata": {},
   "outputs": [],
   "source": [
    "numeric_transformer = Pipeline(steps=[\n",
    "    ('scaler', StandardScaler())\n",
    "    ])\n",
    "\n",
    "categorical_transformer = Pipeline(steps=[\n",
    "    ('onehot', OneHotEncoder())\n",
    "    ])\n",
    "\n",
    "preprocessor = ColumnTransformer(transformers=[\n",
    "    ('cat', categorical_transformer, selector(dtype_include=\"category\")),\n",
    "    ('logTrans', FunctionTransformer(np.log),col_log_),\n",
    "    ('num', numeric_transformer, selector(dtype_exclude=\"category\")),\n",
    "    ])"
   ]
  },
  {
   "cell_type": "code",
   "execution_count": 27,
   "metadata": {},
   "outputs": [],
   "source": [
    "lm_pipe = Pipeline(steps=[\n",
    "    ('preprocessor', preprocessor),\n",
    "    ('lm', LinearRegression())\n",
    "    ])"
   ]
  },
  {
   "cell_type": "code",
   "execution_count": 28,
   "metadata": {},
   "outputs": [
    {
     "name": "stdout",
     "output_type": "stream",
     "text": [
      "Feature: [['median_income', 'proximity', 'rooms_per_household']]\n",
      "R2: 0.5579012444000107\n",
      "MSE: 4183.653978229074\n",
      "RMSE: 64.6811717444039\n"
     ]
    }
   ],
   "source": [
    "# show pipeline\n",
    "set_config(display=\"diagram\")\n",
    "# Fit model\n",
    "lm_pipe.fit(X_train, y_train)\n",
    "y_pred = lm_pipe.predict(X_train)\n",
    "print(\"Feature:\",[features])\n",
    "print(\"R2:\",r2_score(y_train, y_pred))\n",
    "print(\"MSE:\",mean_squared_error(y_train, y_pred))\n",
    "print(\"RMSE:\", mean_squared_error(y_train, y_pred, squared=False))"
   ]
  },
  {
   "cell_type": "code",
   "execution_count": 30,
   "metadata": {},
   "outputs": [
    {
     "name": "stdout",
     "output_type": "stream",
     "text": [
      "Test_Dataset\n",
      "Feature: [['median_income', 'proximity', 'rooms_per_household']]\n",
      "R2: 0.5729091442301831\n",
      "MSE: 3974.7165311375707\n",
      "RMSE: 63.04535297020369\n"
     ]
    }
   ],
   "source": [
    "# show pipeline\n",
    "set_config(display=\"diagram\")\n",
    "# Fit model\n",
    "lm_pipe.fit(X_train, y_train)\n",
    "y_pred = lm_pipe.predict(X_test)\n",
    "print(\"Test_Dataset\")\n",
    "print(\"Feature:\",[features])\n",
    "print(\"R2:\",r2_score(y_test, y_pred))\n",
    "print(\"MSE:\",mean_squared_error(y_test, y_pred))\n",
    "print(\"RMSE:\", mean_squared_error(y_test, y_pred, squared=False))"
   ]
  },
  {
   "cell_type": "code",
   "execution_count": 31,
   "metadata": {},
   "outputs": [
    {
     "name": "stdout",
     "output_type": "stream",
     "text": [
      "Feature: [['median_income', 'proximity', 'rooms_per_household', 'person_per_household']]\n",
      "R2: 0.6077834301648145\n",
      "MSE: 3711.6105664930187\n",
      "RMSE: 60.92298881779372\n"
     ]
    }
   ],
   "source": [
    "features = [\"median_income\",\"proximity\",\"rooms_per_household\", \"person_per_household\"]\n",
    "col_log_ = [\"rooms_per_household\", \"person_per_household\"]\n",
    "med_log_ = 'median_income'\n",
    "X = df[features]\n",
    "y = df[\"median_house_value\"]\n",
    "\n",
    "from sklearn.model_selection import train_test_split\n",
    "\n",
    "X_train, X_test, y_train, y_test = train_test_split(X, y, test_size=0.2, random_state=42)\n",
    "lm_pipe.fit(X_train, y_train)\n",
    "\n",
    "y_pred = lm_pipe.predict(X_train)\n",
    "print(\"Feature:\",[features])\n",
    "print(\"R2:\",r2_score(y_train, y_pred))\n",
    "print(\"MSE:\",mean_squared_error(y_train, y_pred))\n",
    "print(\"RMSE:\", mean_squared_error(y_train, y_pred, squared=False))"
   ]
  },
  {
   "cell_type": "code",
   "execution_count": 32,
   "metadata": {},
   "outputs": [
    {
     "name": "stdout",
     "output_type": "stream",
     "text": [
      "Test_Dataset\n",
      "Feature: [['median_income', 'proximity', 'rooms_per_household', 'person_per_household']]\n",
      "R2: 0.6235501372516963\n",
      "MSE: 3503.426665300889\n",
      "RMSE: 59.18975135359912\n"
     ]
    }
   ],
   "source": [
    "features = [\"median_income\",\"proximity\",\"rooms_per_household\", \"person_per_household\"]\n",
    "col_log_ = [\"rooms_per_household\", \"person_per_household\"]\n",
    "med_log_ = 'median_income'\n",
    "X = df[features]\n",
    "y = df[\"median_house_value\"]\n",
    "\n",
    "from sklearn.model_selection import train_test_split\n",
    "\n",
    "X_train, X_test, y_train, y_test = train_test_split(X, y, test_size=0.2, random_state=42)\n",
    "lm_pipe.fit(X_train, y_train)\n",
    "print(\"Test_Dataset\")\n",
    "y_pred = lm_pipe.predict(X_test)\n",
    "print(\"Feature:\",[features])\n",
    "print(\"R2:\",r2_score(y_test, y_pred))\n",
    "print(\"MSE:\",mean_squared_error(y_test, y_pred))\n",
    "print(\"RMSE:\", mean_squared_error(y_test, y_pred, squared=False))"
   ]
  },
  {
   "cell_type": "code",
   "execution_count": 33,
   "metadata": {},
   "outputs": [
    {
     "name": "stdout",
     "output_type": "stream",
     "text": [
      "Feature: [['median_income', 'proximity', 'rooms_per_household', 'housing_median_age', 'person_per_household']]\n",
      "R2: 0.6159718125496948\n",
      "MSE: 3634.1225434985336\n",
      "RMSE: 60.28368389123656\n"
     ]
    }
   ],
   "source": [
    "#\thousing_median_age\tmedian_income\tmedian_house_value\tpriceCat\tperson_per_household\tshare_bedrooms\trooms_per_household#\n",
    "features = [\"median_income\",\"proximity\",\"rooms_per_household\", \"housing_median_age\", \"person_per_household\"]\n",
    "col_log_ = [\"rooms_per_household\",\"person_per_household\"]\n",
    "med_log_ = 'median_income'\n",
    "X = df[features]\n",
    "y = df[\"median_house_value\"]\n",
    "\n",
    "from sklearn.model_selection import train_test_split\n",
    "\n",
    "X_train, X_test, y_train, y_test = train_test_split(X, y, test_size=0.2, random_state=42)\n",
    "lm_pipe.fit(X_train, y_train)\n",
    "\n",
    "\n",
    "y_pred = lm_pipe.predict(X_train)\n",
    "print(\"Feature:\",[features])\n",
    "print(\"R2:\",r2_score(y_train, y_pred))\n",
    "print(\"MSE:\",mean_squared_error(y_train, y_pred))\n",
    "print(\"RMSE:\", mean_squared_error(y_train, y_pred, squared=False))"
   ]
  },
  {
   "cell_type": "code",
   "execution_count": 34,
   "metadata": {},
   "outputs": [
    {
     "name": "stdout",
     "output_type": "stream",
     "text": [
      "Test_Dataset\n",
      "Feature: [['median_income', 'proximity', 'rooms_per_household', 'housing_median_age', 'person_per_household']]\n",
      "R2: 0.6355649055769101\n",
      "MSE: 3391.611350983427\n",
      "RMSE: 58.237542453158404\n"
     ]
    }
   ],
   "source": [
    "#\thousing_median_age\tmedian_income\tmedian_house_value\tpriceCat\tperson_per_household\tshare_bedrooms\trooms_per_household#\n",
    "features = [\"median_income\",\"proximity\",\"rooms_per_household\", \"housing_median_age\", \"person_per_household\"]\n",
    "col_log_ = [\"rooms_per_household\",\"person_per_household\"]\n",
    "med_log_ = 'median_income'\n",
    "X = df[features]\n",
    "y = df[\"median_house_value\"]\n",
    "\n",
    "from sklearn.model_selection import train_test_split\n",
    "\n",
    "X_train, X_test, y_train, y_test = train_test_split(X, y, test_size=0.2, random_state=42)\n",
    "lm_pipe.fit(X_train, y_train)\n",
    "print(\"Test_Dataset\")\n",
    "y_pred = lm_pipe.predict(X_test)\n",
    "print(\"Feature:\",[features])\n",
    "print(\"R2:\",r2_score(y_test, y_pred))\n",
    "print(\"MSE:\",mean_squared_error(y_test, y_pred))\n",
    "print(\"RMSE:\", mean_squared_error(y_test, y_pred, squared=False))\n"
   ]
  }
 ],
 "metadata": {
  "interpreter": {
   "hash": "463226f144cc21b006ce6927bfc93dd00694e52c8bc6857abb6e555b983749e9"
  },
  "kernelspec": {
   "display_name": "Python 3.8.2 64-bit ('base': conda)",
   "language": "python",
   "name": "python3"
  },
  "language_info": {
   "codemirror_mode": {
    "name": "ipython",
    "version": 3
   },
   "file_extension": ".py",
   "mimetype": "text/x-python",
   "name": "python",
   "nbconvert_exporter": "python",
   "pygments_lexer": "ipython3",
   "version": "3.8.12"
  }
 },
 "nbformat": 4,
 "nbformat_minor": 2
}