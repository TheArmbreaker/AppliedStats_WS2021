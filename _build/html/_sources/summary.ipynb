{
 "cells": [
  {
   "cell_type": "markdown",
   "metadata": {},
   "source": [
    "# Summary and Conclusion\n",
    "\n",
    "___"
   ]
  },
  {
   "cell_type": "markdown",
   "metadata": {},
   "source": [
    "Der Auftraggeber ist daraufhinzuweisen, dass die Modelle keine Zusammenhänge für Distrikte mit Median-Immobilienwerte über 500 T$ und für Immobilienbestand mit Median-Alter von über 52 Jahren lernen konnten.\n",
    "\n",
    "<img src=\"https://kirenz.github.io/ds-python/_images/lifecycle.png\" alt=\"alt text\" width=\"400\" align=\"center\">\n",
    "\n",
    "(Kirenz, J. 2021: https://kirenz.github.io/ds-python/docs/lifecycle.html)\n",
    "\n",
    "## Regression\n",
    "\n",
    "Anhand des RMSE soll das beste Regressions-Modell ausgewählt werden.\n",
    "\n",
    "**Ein wichtiger Hinweis.** Die nachfolgende Aussage ist für die Praxis nicht anwendbar, weil die Modelle unterschiedlich behandelt wurden und Erkenntnisgewinn bei der Neumodellierung teilweise nicht eingeganen ist. </br> Beispielsweise hat nur das OLS I eine Regression Diagnostics erfahren. Diesbezüglich ist interessant zu beobachten, dass die RMSE zu den Testdaten kaum voneinander abweichen. Es wäre interessant zu sehen wie viel besser die anderen Modelle nach dem Entfernen von Ausreißern in den Trainingsdaten funktionieren.\n",
    "\n",
    "Der RMSE gibt an um wieviel Dollar die Ausgabewerte zu Immobilienpreise in den Distrikten im Mittel schwanken.</br>\n",
    "Anhand des RMSE sollte das OLS IV verwendet werden. Der Einfluss der Log-Transformationen auf nicht-lineare Modelle sollte bedacht und noch untersucht werden.\n",
    "\n",
    "\n",
    "|Modell\t|RMSE_train  |RMSE_test\t|\n",
    "|---\t|---\t|---\t|\n",
    "|OLS I (sm)\t|46.57\t|60.70\t|\n",
    "|OLS II (sk)\t|64.68\t|63.05\t|\n",
    "|OLS III (sk)\t|60.92\t|59.19\t|\n",
    "|OLS IV (sk)\t|60.28\t|58.24\t|\n",
    "|Lasso (sk)\t|59.32\t|59.49\t|\n",
    "|Spline (sk)\t|57.98\t|59.21\t|\n",
    "|Spline (sm)\t|73.49\t|74.80\t|\n",
    "\n",
    "sm: Statsmodels</br>\n",
    "sk: SK Learn Pipeline"
   ]
  },
  {
   "cell_type": "markdown",
   "metadata": {},
   "source": [
    "## Klassifikation\n",
    "\n",
    "Ein Modell zur Klassifizierung von Immobilienwerten über 150 T$ wurde aufgestellt. Accurancy von 83 % ist ok.\n",
    "Über Kosten der falschen Zuordnung könnte sich noch Gedanken gemacht werden.\n",
    "\n",
    "Das beste ermittelte Klassifikationsmodell hat eine Accuracy von 83 %. Wie im Notebook erläutert, wird Threshold und F1 Score bewusst nicht verfolgt.\n",
    "\n",
    "Die **Precision** beträgt 83 % - d.h. 83% der als *below* (positiv) geschätzten Distrike sind positiv - haben einen Median-Immobilienwert von unter 150 T$ (inkl. Obergrenze).\n",
    "\n",
    "\n",
    "Der **Recall** beträgt 82 % - d.h. das Modell trifft 82% der tatsächlich positiven Distrike - also die tatsächlich ein Median-Immobilienwert von unter 150 T$ (inkl. Obergrenze) haben.\n"
   ]
  }
 ],
 "metadata": {
  "language_info": {
   "name": "python"
  },
  "orig_nbformat": 4
 },
 "nbformat": 4,
 "nbformat_minor": 2
}
