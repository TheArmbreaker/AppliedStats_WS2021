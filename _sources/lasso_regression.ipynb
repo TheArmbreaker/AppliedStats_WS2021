{
 "cells": [
  {
   "cell_type": "markdown",
   "metadata": {},
   "source": [
    "# Lasso Regression\n",
    "\n",
    "# Datenimport"
   ]
  },
  {
   "cell_type": "code",
   "execution_count": 1,
   "metadata": {},
   "outputs": [],
   "source": [
    "import pandas as pd\n",
    "import numpy as np\n",
    "from scipy import stats\n",
    "from sklearn.metrics import mean_squared_error\n",
    "import statsmodels.api as sm\n",
    "import matplotlib.pyplot as plt\n",
    "%matplotlib inline \n",
    "import seaborn as sns  "
   ]
  },
  {
   "cell_type": "code",
   "execution_count": 2,
   "metadata": {},
   "outputs": [
    {
     "data": {
      "text/html": [
       "<div>\n",
       "<style scoped>\n",
       "    .dataframe tbody tr th:only-of-type {\n",
       "        vertical-align: middle;\n",
       "    }\n",
       "\n",
       "    .dataframe tbody tr th {\n",
       "        vertical-align: top;\n",
       "    }\n",
       "\n",
       "    .dataframe thead th {\n",
       "        text-align: right;\n",
       "    }\n",
       "</style>\n",
       "<table border=\"1\" class=\"dataframe\">\n",
       "  <thead>\n",
       "    <tr style=\"text-align: right;\">\n",
       "      <th></th>\n",
       "      <th>housing_median_age</th>\n",
       "      <th>median_income</th>\n",
       "      <th>median_house_value</th>\n",
       "      <th>priceCat</th>\n",
       "      <th>person_per_household</th>\n",
       "      <th>share_bedrooms</th>\n",
       "      <th>rooms_per_household</th>\n",
       "      <th>sm_PpH</th>\n",
       "      <th>sm_RpH</th>\n",
       "      <th>proximity</th>\n",
       "    </tr>\n",
       "  </thead>\n",
       "  <tbody>\n",
       "    <tr>\n",
       "      <th>0</th>\n",
       "      <td>41.0</td>\n",
       "      <td>8.3252</td>\n",
       "      <td>452.6</td>\n",
       "      <td>above</td>\n",
       "      <td>2.555556</td>\n",
       "      <td>0.146591</td>\n",
       "      <td>6.984127</td>\n",
       "      <td>0.938270</td>\n",
       "      <td>1.943640</td>\n",
       "      <td>COAST</td>\n",
       "    </tr>\n",
       "    <tr>\n",
       "      <th>1</th>\n",
       "      <td>21.0</td>\n",
       "      <td>8.3014</td>\n",
       "      <td>358.5</td>\n",
       "      <td>above</td>\n",
       "      <td>2.109842</td>\n",
       "      <td>0.155797</td>\n",
       "      <td>6.238137</td>\n",
       "      <td>0.746613</td>\n",
       "      <td>1.830682</td>\n",
       "      <td>COAST</td>\n",
       "    </tr>\n",
       "    <tr>\n",
       "      <th>2</th>\n",
       "      <td>52.0</td>\n",
       "      <td>7.2574</td>\n",
       "      <td>352.1</td>\n",
       "      <td>above</td>\n",
       "      <td>2.802260</td>\n",
       "      <td>0.129516</td>\n",
       "      <td>8.288136</td>\n",
       "      <td>1.030426</td>\n",
       "      <td>2.114825</td>\n",
       "      <td>COAST</td>\n",
       "    </tr>\n",
       "    <tr>\n",
       "      <th>3</th>\n",
       "      <td>52.0</td>\n",
       "      <td>5.6431</td>\n",
       "      <td>341.3</td>\n",
       "      <td>above</td>\n",
       "      <td>2.547945</td>\n",
       "      <td>0.184458</td>\n",
       "      <td>5.817352</td>\n",
       "      <td>0.935287</td>\n",
       "      <td>1.760845</td>\n",
       "      <td>COAST</td>\n",
       "    </tr>\n",
       "    <tr>\n",
       "      <th>4</th>\n",
       "      <td>52.0</td>\n",
       "      <td>3.8462</td>\n",
       "      <td>342.2</td>\n",
       "      <td>above</td>\n",
       "      <td>2.181467</td>\n",
       "      <td>0.172096</td>\n",
       "      <td>6.281853</td>\n",
       "      <td>0.779998</td>\n",
       "      <td>1.837665</td>\n",
       "      <td>COAST</td>\n",
       "    </tr>\n",
       "    <tr>\n",
       "      <th>...</th>\n",
       "      <td>...</td>\n",
       "      <td>...</td>\n",
       "      <td>...</td>\n",
       "      <td>...</td>\n",
       "      <td>...</td>\n",
       "      <td>...</td>\n",
       "      <td>...</td>\n",
       "      <td>...</td>\n",
       "      <td>...</td>\n",
       "      <td>...</td>\n",
       "    </tr>\n",
       "    <tr>\n",
       "      <th>19369</th>\n",
       "      <td>25.0</td>\n",
       "      <td>1.5603</td>\n",
       "      <td>78.1</td>\n",
       "      <td>below</td>\n",
       "      <td>2.560606</td>\n",
       "      <td>0.224625</td>\n",
       "      <td>5.045455</td>\n",
       "      <td>0.940244</td>\n",
       "      <td>1.618488</td>\n",
       "      <td>INLAND</td>\n",
       "    </tr>\n",
       "    <tr>\n",
       "      <th>19370</th>\n",
       "      <td>18.0</td>\n",
       "      <td>2.5568</td>\n",
       "      <td>77.1</td>\n",
       "      <td>below</td>\n",
       "      <td>3.122807</td>\n",
       "      <td>0.215208</td>\n",
       "      <td>6.114035</td>\n",
       "      <td>1.138732</td>\n",
       "      <td>1.810587</td>\n",
       "      <td>INLAND</td>\n",
       "    </tr>\n",
       "    <tr>\n",
       "      <th>19371</th>\n",
       "      <td>17.0</td>\n",
       "      <td>1.7000</td>\n",
       "      <td>92.3</td>\n",
       "      <td>below</td>\n",
       "      <td>2.325635</td>\n",
       "      <td>0.215173</td>\n",
       "      <td>5.205543</td>\n",
       "      <td>0.843993</td>\n",
       "      <td>1.649724</td>\n",
       "      <td>INLAND</td>\n",
       "    </tr>\n",
       "    <tr>\n",
       "      <th>19372</th>\n",
       "      <td>18.0</td>\n",
       "      <td>1.8672</td>\n",
       "      <td>84.7</td>\n",
       "      <td>below</td>\n",
       "      <td>2.123209</td>\n",
       "      <td>0.219892</td>\n",
       "      <td>5.329513</td>\n",
       "      <td>0.752929</td>\n",
       "      <td>1.673260</td>\n",
       "      <td>INLAND</td>\n",
       "    </tr>\n",
       "    <tr>\n",
       "      <th>19373</th>\n",
       "      <td>16.0</td>\n",
       "      <td>2.3886</td>\n",
       "      <td>89.4</td>\n",
       "      <td>below</td>\n",
       "      <td>2.616981</td>\n",
       "      <td>0.221185</td>\n",
       "      <td>5.254717</td>\n",
       "      <td>0.962021</td>\n",
       "      <td>1.659126</td>\n",
       "      <td>INLAND</td>\n",
       "    </tr>\n",
       "  </tbody>\n",
       "</table>\n",
       "<p>19374 rows × 10 columns</p>\n",
       "</div>"
      ],
      "text/plain": [
       "       housing_median_age  median_income  median_house_value priceCat  \\\n",
       "0                    41.0         8.3252               452.6    above   \n",
       "1                    21.0         8.3014               358.5    above   \n",
       "2                    52.0         7.2574               352.1    above   \n",
       "3                    52.0         5.6431               341.3    above   \n",
       "4                    52.0         3.8462               342.2    above   \n",
       "...                   ...            ...                 ...      ...   \n",
       "19369                25.0         1.5603                78.1    below   \n",
       "19370                18.0         2.5568                77.1    below   \n",
       "19371                17.0         1.7000                92.3    below   \n",
       "19372                18.0         1.8672                84.7    below   \n",
       "19373                16.0         2.3886                89.4    below   \n",
       "\n",
       "       person_per_household  share_bedrooms  rooms_per_household    sm_PpH  \\\n",
       "0                  2.555556        0.146591             6.984127  0.938270   \n",
       "1                  2.109842        0.155797             6.238137  0.746613   \n",
       "2                  2.802260        0.129516             8.288136  1.030426   \n",
       "3                  2.547945        0.184458             5.817352  0.935287   \n",
       "4                  2.181467        0.172096             6.281853  0.779998   \n",
       "...                     ...             ...                  ...       ...   \n",
       "19369              2.560606        0.224625             5.045455  0.940244   \n",
       "19370              3.122807        0.215208             6.114035  1.138732   \n",
       "19371              2.325635        0.215173             5.205543  0.843993   \n",
       "19372              2.123209        0.219892             5.329513  0.752929   \n",
       "19373              2.616981        0.221185             5.254717  0.962021   \n",
       "\n",
       "         sm_RpH proximity  \n",
       "0      1.943640     COAST  \n",
       "1      1.830682     COAST  \n",
       "2      2.114825     COAST  \n",
       "3      1.760845     COAST  \n",
       "4      1.837665     COAST  \n",
       "...         ...       ...  \n",
       "19369  1.618488    INLAND  \n",
       "19370  1.810587    INLAND  \n",
       "19371  1.649724    INLAND  \n",
       "19372  1.673260    INLAND  \n",
       "19373  1.659126    INLAND  \n",
       "\n",
       "[19374 rows x 10 columns]"
      ]
     },
     "execution_count": 2,
     "metadata": {},
     "output_type": "execute_result"
    }
   ],
   "source": [
    "# seaborn settings\n",
    "custom_params = {\"axes.spines.right\": False, \"axes.spines.top\": False}\n",
    "sns.set_theme(style=\"ticks\", rc=custom_params)\n",
    "\n",
    "# Data Import\n",
    "df = pd.read_csv(\"ready_data.csv\")\n",
    "\n",
    "# Change Datatypes from Data.ipynb\n",
    "datatypes_toChange = {\"priceCat\": \"category\", \"proximity\": \"category\"}\n",
    "df = df.astype(datatypes_toChange)\n",
    "\n",
    "df"
   ]
  },
  {
   "cell_type": "markdown",
   "metadata": {},
   "source": [
    "# Vorgehensweise\n",
    "\n",
    "In den nachfolgenden Punkten wird die Lasso Regression jeweils einmal mit **SK Learn** und **Statsmodels** durchgeführt.</br>\n",
    "Dabei sind unterschiedliche Vorgehensweisen bzgl. Einlesen der Daten zu beachten.\n",
    "\n",
    "Vorarbeit wurde bereits in Data.ipynb erbracht.\n",
    "\n",
    "Ferner wird in SK Learn der Hyperparameter Lambda mittels Cross-Validation ermittelt."
   ]
  },
  {
   "cell_type": "markdown",
   "metadata": {},
   "source": [
    "# Modellierung in SK Learn Pipeline\n",
    "\n",
    "Nachfolgend die Lasso-Regression in der SK-Learn Pipeline.\n",
    "\n",
    "Zum Ende wird der Hyperparameter Lambda ausgegeben."
   ]
  },
  {
   "cell_type": "code",
   "execution_count": 3,
   "metadata": {},
   "outputs": [],
   "source": [
    "from sklearn.compose import ColumnTransformer\n",
    "from sklearn.compose import make_column_selector as selector\n",
    "from sklearn.pipeline import Pipeline\n",
    "from sklearn import set_config\n",
    "from sklearn.preprocessing import StandardScaler, OneHotEncoder\n",
    "from sklearn.linear_model import LassoCV\n",
    "from sklearn.preprocessing import FunctionTransformer\n",
    "from sklearn.model_selection import train_test_split\n",
    "from sklearn.linear_model import Lasso"
   ]
  },
  {
   "cell_type": "code",
   "execution_count": 4,
   "metadata": {},
   "outputs": [],
   "source": [
    "# create label\n",
    "y = df['median_house_value']\n",
    "\n",
    "# create features\n",
    "X = df.drop(['sm_PpH','sm_RpH','median_house_value', 'share_bedrooms', \"priceCat\"], axis=1)\n",
    "\n",
    "# create list of feature names\n",
    "num_feature_names =  X.columns\n"
   ]
  },
  {
   "cell_type": "code",
   "execution_count": 5,
   "metadata": {},
   "outputs": [
    {
     "data": {
      "text/html": [
       "<div>\n",
       "<style scoped>\n",
       "    .dataframe tbody tr th:only-of-type {\n",
       "        vertical-align: middle;\n",
       "    }\n",
       "\n",
       "    .dataframe tbody tr th {\n",
       "        vertical-align: top;\n",
       "    }\n",
       "\n",
       "    .dataframe thead th {\n",
       "        text-align: right;\n",
       "    }\n",
       "</style>\n",
       "<table border=\"1\" class=\"dataframe\">\n",
       "  <thead>\n",
       "    <tr style=\"text-align: right;\">\n",
       "      <th></th>\n",
       "      <th>housing_median_age</th>\n",
       "      <th>median_income</th>\n",
       "      <th>person_per_household</th>\n",
       "      <th>rooms_per_household</th>\n",
       "      <th>proximity</th>\n",
       "    </tr>\n",
       "  </thead>\n",
       "  <tbody>\n",
       "    <tr>\n",
       "      <th>5117</th>\n",
       "      <td>41.0</td>\n",
       "      <td>4.0231</td>\n",
       "      <td>2.064449</td>\n",
       "      <td>4.330561</td>\n",
       "      <td>COAST</td>\n",
       "    </tr>\n",
       "    <tr>\n",
       "      <th>2566</th>\n",
       "      <td>14.0</td>\n",
       "      <td>5.0329</td>\n",
       "      <td>2.850829</td>\n",
       "      <td>8.022099</td>\n",
       "      <td>COAST</td>\n",
       "    </tr>\n",
       "    <tr>\n",
       "      <th>306</th>\n",
       "      <td>52.0</td>\n",
       "      <td>2.4659</td>\n",
       "      <td>2.942857</td>\n",
       "      <td>5.782857</td>\n",
       "      <td>COAST</td>\n",
       "    </tr>\n",
       "    <tr>\n",
       "      <th>17621</th>\n",
       "      <td>23.0</td>\n",
       "      <td>2.3571</td>\n",
       "      <td>2.639742</td>\n",
       "      <td>6.489499</td>\n",
       "      <td>INLAND</td>\n",
       "    </tr>\n",
       "    <tr>\n",
       "      <th>13146</th>\n",
       "      <td>18.0</td>\n",
       "      <td>3.0139</td>\n",
       "      <td>2.443359</td>\n",
       "      <td>6.468750</td>\n",
       "      <td>INLAND</td>\n",
       "    </tr>\n",
       "  </tbody>\n",
       "</table>\n",
       "</div>"
      ],
      "text/plain": [
       "       housing_median_age  median_income  person_per_household  \\\n",
       "5117                 41.0         4.0231              2.064449   \n",
       "2566                 14.0         5.0329              2.850829   \n",
       "306                  52.0         2.4659              2.942857   \n",
       "17621                23.0         2.3571              2.639742   \n",
       "13146                18.0         3.0139              2.443359   \n",
       "\n",
       "       rooms_per_household proximity  \n",
       "5117              4.330561     COAST  \n",
       "2566              8.022099     COAST  \n",
       "306               5.782857     COAST  \n",
       "17621             6.489499    INLAND  \n",
       "13146             6.468750    INLAND  "
      ]
     },
     "execution_count": 5,
     "metadata": {},
     "output_type": "execute_result"
    }
   ],
   "source": [
    "X_train, X_test, y_train, y_test = train_test_split(X, y, test_size=0.3, random_state=10)\n",
    "X_train.head()"
   ]
  },
  {
   "cell_type": "code",
   "execution_count": 6,
   "metadata": {},
   "outputs": [],
   "source": [
    "col_log_ = [\"rooms_per_household\", \"person_per_household\"]\n",
    "med_log_ = 'median_income'\n",
    "\n",
    "numeric_transformer = Pipeline(steps=[\n",
    "    ('scaler', StandardScaler())\n",
    "    ])\n",
    "\n",
    "categorical_transformer = Pipeline(steps=[\n",
    "    ('onehot', OneHotEncoder())\n",
    "    ])\n",
    "\n",
    "preprocessor = ColumnTransformer(transformers=[\n",
    "    ('cat', categorical_transformer, selector(dtype_include=\"category\")),\n",
    "    ('logTrans', FunctionTransformer(np.log),col_log_),\n",
    "    ('num', numeric_transformer, selector(dtype_exclude=\"category\")),\n",
    "    ])"
   ]
  },
  {
   "cell_type": "code",
   "execution_count": 7,
   "metadata": {},
   "outputs": [],
   "source": [
    "lm_pipe = Pipeline(steps=[\n",
    "    ('preprocessor', preprocessor),\n",
    "    ('lasso', LassoCV(cv=5, random_state=10, max_iter=10000))\n",
    "    ])"
   ]
  },
  {
   "cell_type": "code",
   "execution_count": 8,
   "metadata": {},
   "outputs": [
    {
     "data": {
      "text/html": [
       "<style>#sk-f9bad1ec-e350-4441-9719-69cb0322f6c9 {color: black;background-color: white;}#sk-f9bad1ec-e350-4441-9719-69cb0322f6c9 pre{padding: 0;}#sk-f9bad1ec-e350-4441-9719-69cb0322f6c9 div.sk-toggleable {background-color: white;}#sk-f9bad1ec-e350-4441-9719-69cb0322f6c9 label.sk-toggleable__label {cursor: pointer;display: block;width: 100%;margin-bottom: 0;padding: 0.3em;box-sizing: border-box;text-align: center;}#sk-f9bad1ec-e350-4441-9719-69cb0322f6c9 div.sk-toggleable__content {max-height: 0;max-width: 0;overflow: hidden;text-align: left;background-color: #f0f8ff;}#sk-f9bad1ec-e350-4441-9719-69cb0322f6c9 div.sk-toggleable__content pre {margin: 0.2em;color: black;border-radius: 0.25em;background-color: #f0f8ff;}#sk-f9bad1ec-e350-4441-9719-69cb0322f6c9 input.sk-toggleable__control:checked~div.sk-toggleable__content {max-height: 200px;max-width: 100%;overflow: auto;}#sk-f9bad1ec-e350-4441-9719-69cb0322f6c9 div.sk-estimator input.sk-toggleable__control:checked~label.sk-toggleable__label {background-color: #d4ebff;}#sk-f9bad1ec-e350-4441-9719-69cb0322f6c9 div.sk-label input.sk-toggleable__control:checked~label.sk-toggleable__label {background-color: #d4ebff;}#sk-f9bad1ec-e350-4441-9719-69cb0322f6c9 input.sk-hidden--visually {border: 0;clip: rect(1px 1px 1px 1px);clip: rect(1px, 1px, 1px, 1px);height: 1px;margin: -1px;overflow: hidden;padding: 0;position: absolute;width: 1px;}#sk-f9bad1ec-e350-4441-9719-69cb0322f6c9 div.sk-estimator {font-family: monospace;background-color: #f0f8ff;border: 1px dotted black;border-radius: 0.25em;box-sizing: border-box;margin-bottom: 0.5em;}#sk-f9bad1ec-e350-4441-9719-69cb0322f6c9 div.sk-estimator:hover {background-color: #d4ebff;}#sk-f9bad1ec-e350-4441-9719-69cb0322f6c9 div.sk-parallel-item::after {content: \"\";width: 100%;border-bottom: 1px solid gray;flex-grow: 1;}#sk-f9bad1ec-e350-4441-9719-69cb0322f6c9 div.sk-label:hover label.sk-toggleable__label {background-color: #d4ebff;}#sk-f9bad1ec-e350-4441-9719-69cb0322f6c9 div.sk-serial::before {content: \"\";position: absolute;border-left: 1px solid gray;box-sizing: border-box;top: 2em;bottom: 0;left: 50%;}#sk-f9bad1ec-e350-4441-9719-69cb0322f6c9 div.sk-serial {display: flex;flex-direction: column;align-items: center;background-color: white;padding-right: 0.2em;padding-left: 0.2em;}#sk-f9bad1ec-e350-4441-9719-69cb0322f6c9 div.sk-item {z-index: 1;}#sk-f9bad1ec-e350-4441-9719-69cb0322f6c9 div.sk-parallel {display: flex;align-items: stretch;justify-content: center;background-color: white;}#sk-f9bad1ec-e350-4441-9719-69cb0322f6c9 div.sk-parallel::before {content: \"\";position: absolute;border-left: 1px solid gray;box-sizing: border-box;top: 2em;bottom: 0;left: 50%;}#sk-f9bad1ec-e350-4441-9719-69cb0322f6c9 div.sk-parallel-item {display: flex;flex-direction: column;position: relative;background-color: white;}#sk-f9bad1ec-e350-4441-9719-69cb0322f6c9 div.sk-parallel-item:first-child::after {align-self: flex-end;width: 50%;}#sk-f9bad1ec-e350-4441-9719-69cb0322f6c9 div.sk-parallel-item:last-child::after {align-self: flex-start;width: 50%;}#sk-f9bad1ec-e350-4441-9719-69cb0322f6c9 div.sk-parallel-item:only-child::after {width: 0;}#sk-f9bad1ec-e350-4441-9719-69cb0322f6c9 div.sk-dashed-wrapped {border: 1px dashed gray;margin: 0 0.4em 0.5em 0.4em;box-sizing: border-box;padding-bottom: 0.4em;background-color: white;position: relative;}#sk-f9bad1ec-e350-4441-9719-69cb0322f6c9 div.sk-label label {font-family: monospace;font-weight: bold;background-color: white;display: inline-block;line-height: 1.2em;}#sk-f9bad1ec-e350-4441-9719-69cb0322f6c9 div.sk-label-container {position: relative;z-index: 2;text-align: center;}#sk-f9bad1ec-e350-4441-9719-69cb0322f6c9 div.sk-container {display: inline-block;position: relative;}</style><div id=\"sk-f9bad1ec-e350-4441-9719-69cb0322f6c9\" class\"sk-top-container\"><div class=\"sk-container\"><div class=\"sk-item sk-dashed-wrapped\"><div class=\"sk-label-container\"><div class=\"sk-label sk-toggleable\"><input class=\"sk-toggleable__control sk-hidden--visually\" id=\"d884efac-489a-4547-8055-57024f7fb6cf\" type=\"checkbox\" ><label class=\"sk-toggleable__label\" for=\"d884efac-489a-4547-8055-57024f7fb6cf\">Pipeline</label><div class=\"sk-toggleable__content\"><pre>Pipeline(steps=[('preprocessor',\n",
       "                 ColumnTransformer(transformers=[('cat',\n",
       "                                                  Pipeline(steps=[('onehot',\n",
       "                                                                   OneHotEncoder())]),\n",
       "                                                  <sklearn.compose._column_transformer.make_column_selector object at 0x7f7f75746f40>),\n",
       "                                                 ('logTrans',\n",
       "                                                  FunctionTransformer(func=<ufunc 'log'>),\n",
       "                                                  ['rooms_per_household',\n",
       "                                                   'person_per_household']),\n",
       "                                                 ('num',\n",
       "                                                  Pipeline(steps=[('scaler',\n",
       "                                                                   StandardScaler())]),\n",
       "                                                  <sklearn.compose._column_transformer.make_column_selector object at 0x7f7f6f9e1730>)])),\n",
       "                ('lasso', LassoCV(cv=5, max_iter=10000, random_state=10))])</pre></div></div></div><div class=\"sk-serial\"><div class=\"sk-item sk-dashed-wrapped\"><div class=\"sk-label-container\"><div class=\"sk-label sk-toggleable\"><input class=\"sk-toggleable__control sk-hidden--visually\" id=\"92e7fcd6-7f37-458a-b9bd-fc6f98868bc5\" type=\"checkbox\" ><label class=\"sk-toggleable__label\" for=\"92e7fcd6-7f37-458a-b9bd-fc6f98868bc5\">preprocessor: ColumnTransformer</label><div class=\"sk-toggleable__content\"><pre>ColumnTransformer(transformers=[('cat',\n",
       "                                 Pipeline(steps=[('onehot', OneHotEncoder())]),\n",
       "                                 <sklearn.compose._column_transformer.make_column_selector object at 0x7f7f75746f40>),\n",
       "                                ('logTrans',\n",
       "                                 FunctionTransformer(func=<ufunc 'log'>),\n",
       "                                 ['rooms_per_household',\n",
       "                                  'person_per_household']),\n",
       "                                ('num',\n",
       "                                 Pipeline(steps=[('scaler', StandardScaler())]),\n",
       "                                 <sklearn.compose._column_transformer.make_column_selector object at 0x7f7f6f9e1730>)])</pre></div></div></div><div class=\"sk-parallel\"><div class=\"sk-parallel-item\"><div class=\"sk-item\"><div class=\"sk-label-container\"><div class=\"sk-label sk-toggleable\"><input class=\"sk-toggleable__control sk-hidden--visually\" id=\"a2c459ed-8f36-4ad3-9ce6-751ecb34e1a1\" type=\"checkbox\" ><label class=\"sk-toggleable__label\" for=\"a2c459ed-8f36-4ad3-9ce6-751ecb34e1a1\">cat</label><div class=\"sk-toggleable__content\"><pre><sklearn.compose._column_transformer.make_column_selector object at 0x7f7f75746f40></pre></div></div></div><div class=\"sk-serial\"><div class=\"sk-item\"><div class=\"sk-serial\"><div class=\"sk-item\"><div class=\"sk-estimator sk-toggleable\"><input class=\"sk-toggleable__control sk-hidden--visually\" id=\"d550fffe-62c9-4329-b60e-669fd7588899\" type=\"checkbox\" ><label class=\"sk-toggleable__label\" for=\"d550fffe-62c9-4329-b60e-669fd7588899\">OneHotEncoder</label><div class=\"sk-toggleable__content\"><pre>OneHotEncoder()</pre></div></div></div></div></div></div></div></div><div class=\"sk-parallel-item\"><div class=\"sk-item\"><div class=\"sk-label-container\"><div class=\"sk-label sk-toggleable\"><input class=\"sk-toggleable__control sk-hidden--visually\" id=\"8ae4f8d9-d80e-46ca-af7b-930cfe1f50f1\" type=\"checkbox\" ><label class=\"sk-toggleable__label\" for=\"8ae4f8d9-d80e-46ca-af7b-930cfe1f50f1\">logTrans</label><div class=\"sk-toggleable__content\"><pre>['rooms_per_household', 'person_per_household']</pre></div></div></div><div class=\"sk-serial\"><div class=\"sk-item\"><div class=\"sk-estimator sk-toggleable\"><input class=\"sk-toggleable__control sk-hidden--visually\" id=\"fdc0037c-0243-4d54-9095-5991a67ac3bf\" type=\"checkbox\" ><label class=\"sk-toggleable__label\" for=\"fdc0037c-0243-4d54-9095-5991a67ac3bf\">FunctionTransformer</label><div class=\"sk-toggleable__content\"><pre>FunctionTransformer(func=<ufunc 'log'>)</pre></div></div></div></div></div></div><div class=\"sk-parallel-item\"><div class=\"sk-item\"><div class=\"sk-label-container\"><div class=\"sk-label sk-toggleable\"><input class=\"sk-toggleable__control sk-hidden--visually\" id=\"96e95da0-dd7d-41ff-a436-42e8b46e16f9\" type=\"checkbox\" ><label class=\"sk-toggleable__label\" for=\"96e95da0-dd7d-41ff-a436-42e8b46e16f9\">num</label><div class=\"sk-toggleable__content\"><pre><sklearn.compose._column_transformer.make_column_selector object at 0x7f7f6f9e1730></pre></div></div></div><div class=\"sk-serial\"><div class=\"sk-item\"><div class=\"sk-serial\"><div class=\"sk-item\"><div class=\"sk-estimator sk-toggleable\"><input class=\"sk-toggleable__control sk-hidden--visually\" id=\"0fe22436-28f0-47ec-9cbf-7c6b8fd94aa5\" type=\"checkbox\" ><label class=\"sk-toggleable__label\" for=\"0fe22436-28f0-47ec-9cbf-7c6b8fd94aa5\">StandardScaler</label><div class=\"sk-toggleable__content\"><pre>StandardScaler()</pre></div></div></div></div></div></div></div></div></div></div><div class=\"sk-item\"><div class=\"sk-estimator sk-toggleable\"><input class=\"sk-toggleable__control sk-hidden--visually\" id=\"a3599b50-f538-4766-9f45-d13410a6077f\" type=\"checkbox\" ><label class=\"sk-toggleable__label\" for=\"a3599b50-f538-4766-9f45-d13410a6077f\">LassoCV</label><div class=\"sk-toggleable__content\"><pre>LassoCV(cv=5, max_iter=10000, random_state=10)</pre></div></div></div></div></div></div></div>"
      ],
      "text/plain": [
       "Pipeline(steps=[('preprocessor',\n",
       "                 ColumnTransformer(transformers=[('cat',\n",
       "                                                  Pipeline(steps=[('onehot',\n",
       "                                                                   OneHotEncoder())]),\n",
       "                                                  <sklearn.compose._column_transformer.make_column_selector object at 0x7f7f75746f40>),\n",
       "                                                 ('logTrans',\n",
       "                                                  FunctionTransformer(func=<ufunc 'log'>),\n",
       "                                                  ['rooms_per_household',\n",
       "                                                   'person_per_household']),\n",
       "                                                 ('num',\n",
       "                                                  Pipeline(steps=[('scaler',\n",
       "                                                                   StandardScaler())]),\n",
       "                                                  <sklearn.compose._column_transformer.make_column_selector object at 0x7f7f6f9e1730>)])),\n",
       "                ('lasso', LassoCV(cv=5, max_iter=10000, random_state=10))])"
      ]
     },
     "execution_count": 8,
     "metadata": {},
     "output_type": "execute_result"
    }
   ],
   "source": [
    "# show pipeline\n",
    "set_config(display=\"diagram\")\n",
    "# Fit model\n",
    "lm_pipe.fit(X_train, y_train)"
   ]
  },
  {
   "cell_type": "code",
   "execution_count": 9,
   "metadata": {},
   "outputs": [],
   "source": [
    "reg = lm_pipe.named_steps['lasso']"
   ]
  },
  {
   "cell_type": "code",
   "execution_count": 10,
   "metadata": {},
   "outputs": [],
   "source": [
    "y_pred = lm_pipe.predict(X_test)"
   ]
  },
  {
   "cell_type": "code",
   "execution_count": 11,
   "metadata": {},
   "outputs": [
    {
     "name": "stdout",
     "output_type": "stream",
     "text": [
      "R squared training set 62.69\n",
      "R squared test set 62.47\n"
     ]
    }
   ],
   "source": [
    "print('R squared training set', round(lm_pipe.score(X_train, y_train)*100, 2))\n",
    "print('R squared test set', round(lm_pipe.score(X_test, y_test)*100, 2))"
   ]
  },
  {
   "cell_type": "code",
   "execution_count": 12,
   "metadata": {},
   "outputs": [
    {
     "name": "stdout",
     "output_type": "stream",
     "text": [
      "RMSE training set 59.32230302453848\n",
      "RMSE test set 59.49359330803611\n"
     ]
    }
   ],
   "source": [
    "print(\"RMSE training set\", mean_squared_error(y_train, lm_pipe.predict(X_train), squared=False))\n",
    "print(\"RMSE test set\", mean_squared_error(y_test, lm_pipe.predict(X_test), squared=False))"
   ]
  },
  {
   "cell_type": "code",
   "execution_count": 65,
   "metadata": {},
   "outputs": [
    {
     "name": "stdout",
     "output_type": "stream",
     "text": [
      "Lambda: 0.063103048006874\n"
     ]
    }
   ],
   "source": [
    "print(\"Lambda:\", reg.alpha_)"
   ]
  },
  {
   "cell_type": "markdown",
   "metadata": {},
   "source": [
    "Laut Ausgabe ist der Hyperparameter Lambda = 0.063103048006874\n",
    "\n",
    "Der nachfolgende Plot sollte eigentlich eine Darstellung über die Folds bei Cross-Validation=5 erstellen.\n",
    "Eventuell fehlt die Anzeige wegen dem Abruf aus der Pipeline mit *reg = lm_pipe.named_steps['lasso']*. </br>\n",
    "Eine Kontrolle über den manuellen Weg mit dem ausgeworfenen Lambda ist möglich und wurde für das nachfolgende Statsmodels geplant. Die Umsetzung in SKLearn fehlte im Nachgang die Zeit."
   ]
  },
  {
   "cell_type": "code",
   "execution_count": 66,
   "metadata": {},
   "outputs": [
    {
     "data": {
      "image/png": "[encoded data removed]",
      "text/plain": [
       "<Figure size 432x288 with 1 Axes>"
      ]
     },
     "metadata": {},
     "output_type": "display_data"
    }
   ],
   "source": [
    "plt.semilogx(reg.alphas_, reg.mse_path_, \":\")\n",
    "plt.plot(\n",
    "    reg.alphas_ ,\n",
    "    reg.mse_path_.mean(axis=-1),\n",
    "    \"k\",\n",
    "    label=\"Average across the folds\",\n",
    "    linewidth=2,\n",
    ")\n",
    "plt.axvline(\n",
    "    reg.alpha_, linestyle=\"--\", color=\"k\", label=\"alpha: CV estimate\"\n",
    ")\n",
    "\n",
    "plt.legend()\n",
    "plt.xlabel(\"alphas\")\n",
    "plt.ylabel(\"Mean square error\")\n",
    "plt.title(\"Mean square error on each fold\")\n",
    "plt.axis(\"tight\")\n",
    "\n",
    "ymin, ymax = 1000, 2500\n",
    "plt.ylim(ymin, ymax);"
   ]
  },
  {
   "cell_type": "markdown",
   "metadata": {},
   "source": [
    "# Modellierung in Statsmodels\n",
    "\n",
    "Nachfolgend wird die Vorbereitung für die Lasso Regression dargestellt. Dies erfolgt bis zur Standardisierung von allen nummerischen Spalten.</br>\n",
    "Mittlerweile gibt es eine Funktion bei Statsmodels, welche jedoch noch nicht ausgereift ist. Beispielsweise scheint die Funktion zur Ausgabe von üblichen Summary-Werten wie MSE und R2 zu fehlen.\n",
    "\n",
    "Der Umfang wird in diesem Notebook aufgenommen, weil sehr viel Zeit in die Recherche geflossen ist. :-)"
   ]
  },
  {
   "cell_type": "code",
   "execution_count": 17,
   "metadata": {},
   "outputs": [],
   "source": [
    "%matplotlib inline\n",
    "\n",
    "import pandas as pd\n",
    "import seaborn as sns \n",
    "import matplotlib.pyplot as plt\n",
    "import statsmodels.formula.api as smf\n",
    "import statsmodels.genmod.generalized_linear_model as slm\n",
    "from statsmodels.tools.eval_measures import mse, rmse\n",
    "\n",
    "sns.set_theme(style=\"ticks\", color_codes=True)"
   ]
  },
  {
   "cell_type": "code",
   "execution_count": 4,
   "metadata": {},
   "outputs": [],
   "source": [
    "df_stats = pd.concat([df, dummies[[\"Ocean_Prox_INLAND\",\"priceCat_below\"]]], axis=1)\n",
    "df_stats = df_stats.drop(columns=[\"Ocean_Prox\", \"priceCat\"], axis=1)\n",
    "numeric_feature_names = df_stats.drop(columns=[\"Ocean_Prox_INLAND\", \"priceCat_below\", \"median_house_value\"],axis=1).columns"
   ]
  },
  {
   "cell_type": "code",
   "execution_count": 5,
   "metadata": {},
   "outputs": [],
   "source": [
    "train_dataset = df.sample(frac=0.8, random_state=0)\n",
    "test_dataset = df.drop(train_dataset.index)"
   ]
  },
  {
   "cell_type": "code",
   "execution_count": 6,
   "metadata": {},
   "outputs": [],
   "source": [
    "train_dummies = pd.get_dummies(train_dataset[['priceCat', 'Ocean_Prox']], drop_first=True)\n",
    "test_dummies = pd.get_dummies(test_dataset[['priceCat', 'Ocean_Prox']], drop_first=True)\n"
   ]
  },
  {
   "cell_type": "code",
   "execution_count": 7,
   "metadata": {},
   "outputs": [
    {
     "name": "stdout",
     "output_type": "stream",
     "text": [
      "15450\n",
      "15450\n"
     ]
    }
   ],
   "source": [
    "y_train_dataset = train_dataset[\"median_house_value\"]\n",
    "X_train_dataset = pd.concat([train_dataset.drop(columns=[\"median_house_value\", 'priceCat','Ocean_Prox'], axis=1), train_dummies],axis=1)\n",
    "y_test_dataset = test_dataset[\"median_house_value\"]\n",
    "X_test_dataset = pd.concat([test_dataset.drop(columns=[\"median_house_value\", 'priceCat','Ocean_Prox'], axis=1), test_dummies],axis=1)\n",
    "\n",
    "print(len(y_train_dataset))\n",
    "print(len(X_train_dataset))"
   ]
  },
  {
   "cell_type": "code",
   "execution_count": 8,
   "metadata": {},
   "outputs": [
    {
     "name": "stdout",
     "output_type": "stream",
     "text": [
      "<class 'pandas.core.frame.DataFrame'>\n",
      "Int64Index: 15450 entries, 6109 to 15656\n",
      "Data columns (total 7 columns):\n",
      " #   Column               Non-Null Count  Dtype  \n",
      "---  ------               --------------  -----  \n",
      " 0   housing_median_age   15450 non-null  float64\n",
      " 1   median_income        15450 non-null  float64\n",
      " 2   Person_per_Houshold  15450 non-null  float64\n",
      " 3   Share_Bedrooms       15450 non-null  float64\n",
      " 4   Rooms_per_Houshold   15450 non-null  float64\n",
      " 5   Ocean_Prox_INLAND    15450 non-null  uint8  \n",
      " 6   priceCat_below       15450 non-null  uint8  \n",
      "dtypes: float64(5), uint8(2)\n",
      "memory usage: 754.4 KB\n"
     ]
    }
   ],
   "source": [
    "from scipy import stats\n",
    "#pd.concat([df, dummies[[\"Ocean_Prox_INLAND\",\"priceCat_below\"]]], axis=1)\n",
    "X_train_dataset_z = pd.concat([X_train_dataset[numeric_feature_names].apply(stats.zscore), train_dummies[[\"Ocean_Prox_INLAND\",\"priceCat_below\"]]], axis=1)\n",
    "X_test_dataset_z = pd.concat([X_test_dataset[numeric_feature_names].apply(stats.zscore), test_dummies[[\"Ocean_Prox_INLAND\",\"priceCat_below\"]]], axis=1)\n",
    "X_train_dataset_z.info()"
   ]
  },
  {
   "cell_type": "markdown",
   "metadata": {},
   "source": [
    "# Modellierung\n",
    "Für statsmodel scheint noch keine ausgereifte Funktionalität bei Lasso-Regression zu bestehen.\n",
    "\n",
    "Hier wurde das Alpha aus der SK Learn Pipeline exemplarisch eingesetzt."
   ]
  },
  {
   "cell_type": "code",
   "execution_count": 34,
   "metadata": {},
   "outputs": [],
   "source": [
    "# Fit Model\n",
    "#lasso_reg = slm.GLM(y_train_dataset,X_train_dataset_z).fit_regularized(method=\"\",alpha=0.063103048006874, L1_wt=1)"
   ]
  }
 ],
 "metadata": {
  "interpreter": {
   "hash": "9b8dfdb05e476a0fb0e450349f9b76abd6ac1559882404eeba22108e759c936b"
  },
  "kernelspec": {
   "display_name": "Python 3.8.5 64-bit ('base': conda)",
   "language": "python",
   "name": "python3"
  },
  "language_info": {
   "codemirror_mode": {
    "name": "ipython",
    "version": 3
   },
   "file_extension": ".py",
   "mimetype": "text/x-python",
   "name": "python",
   "nbconvert_exporter": "python",
   "pygments_lexer": "ipython3",
   "version": "3.8.12"
  },
  "orig_nbformat": 4
 },
 "nbformat": 4,
 "nbformat_minor": 2
}
